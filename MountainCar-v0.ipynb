{
 "cells": [
  {
   "cell_type": "code",
   "execution_count": 1,
   "metadata": {},
   "outputs": [],
   "source": [
    "import torch\n",
    "import torch.nn as nn\n",
    "import torch.optim as optim\n",
    "import numpy as np\n",
    "import gym\n",
    "from collections import namedtuple\n",
    "import matplotlib.pyplot as plt"
   ]
  },
  {
   "cell_type": "code",
   "execution_count": 2,
   "metadata": {},
   "outputs": [],
   "source": [
    "from train_Q import ModelQ_t\n",
    "from memory import ReplayMemory, ReplayDataset\n",
    "from model import Policy"
   ]
  },
  {
   "cell_type": "code",
   "execution_count": 3,
   "metadata": {},
   "outputs": [],
   "source": [
    "env = gym.make('MountainCar-v0')"
   ]
  },
  {
   "cell_type": "code",
   "execution_count": 4,
   "metadata": {},
   "outputs": [],
   "source": [
    "BATCH_SIZE = 32\n",
    "GAMMA = 0.999\n",
    "EPS_START = 0.9\n",
    "EPS_END = 0.05\n",
    "EPS_DECAY = 200\n",
    "TARGET_UPDATE = 10\n",
    "LR = 0.001\n",
    "Transition = namedtuple('Transition',\n",
    "                        ('state', 'next_s1', 'next_s2', 'next_s3', 'reward_1', 'reward_2', 'reward_3'))\n",
    "memory = ReplayDataset(10000, Transition)\n",
    "loss_fn = nn.MSELoss().type(torch.FloatTensor)\n",
    "steps_done = 0"
   ]
  },
  {
   "cell_type": "code",
   "execution_count": 5,
   "metadata": {},
   "outputs": [
    {
     "data": {
      "text/plain": [
       "Policy(\n",
       "  (linear1): Linear(in_features=2, out_features=200, bias=True)\n",
       "  (linear2): Linear(in_features=200, out_features=3, bias=True)\n",
       "  (linear3): Linear(in_features=200, out_features=3, bias=True)\n",
       "  (relu): ReLU()\n",
       ")"
      ]
     },
     "execution_count": 5,
     "metadata": {},
     "output_type": "execute_result"
    }
   ],
   "source": [
    "policy_net = Policy(env)\n",
    "target_net = Policy(env)\n",
    "target_net.load_state_dict(policy_net.state_dict())\n",
    "target_net.eval()"
   ]
  },
  {
   "cell_type": "code",
   "execution_count": 6,
   "metadata": {},
   "outputs": [],
   "source": [
    "optimizer = optim.RMSprop(policy_net.parameters(), lr = LR)\n",
    "ModelQ = ModelQ_t(policy_net, target_net, env, steps_done, EPS_END, EPS_START, EPS_DECAY, \n",
    "                  memory, BATCH_SIZE, GAMMA, loss_fn, optimizer, TARGET_UPDATE)"
   ]
  },
  {
   "cell_type": "code",
   "execution_count": 7,
   "metadata": {},
   "outputs": [
    {
     "name": "stdout",
     "output_type": "stream",
     "text": [
      "tensor([1, 2, 3, 5])\n",
      "tensor([1, 1, 1, 5])\n"
     ]
    }
   ],
   "source": [
    "l = [[1, 2, 3, 0], [1, 1, 1, 0]]\n",
    "A = torch.tensor(l)\n",
    "A[A == 0] = 5\n",
    "for s in A:\n",
    "    print(s)"
   ]
  },
  {
   "cell_type": "code",
   "execution_count": 8,
   "metadata": {},
   "outputs": [
    {
     "name": "stdout",
     "output_type": "stream",
     "text": [
      "tensor([-0.5489,  0.0039]) tensor([-1.]) tensor([-1.]) tensor([-1.])\n"
     ]
    },
    {
     "name": "stderr",
     "output_type": "stream",
     "text": [
      "/home/igor/Study/Main/Machine Learning/JetBrains/train_Q.py:41: UserWarning: To copy construct from a tensor, it is recommended to use sourceTensor.clone().detach() or sourceTensor.clone().detach().requires_grad_(True), rather than torch.tensor(sourceTensor).\n",
      "  return torch.tensor(action)\n"
     ]
    },
    {
     "name": "stdout",
     "output_type": "stream",
     "text": [
      "tensor([-0.5193, -0.0047]) tensor([-1.]) tensor([-1.]) tensor([-1.])\n",
      "tensor([-5.6153e-01,  8.4864e-06]) tensor([-1.]) tensor([-1.]) tensor([-1.])\n",
      "tensor([-0.6306,  0.0061]) tensor([-1.]) tensor([-1.]) tensor([-1.])\n",
      "tensor([-6.5029e-01, -5.3479e-04]) tensor([-1.]) tensor([-1.]) tensor([-1.])\n",
      "tensor([-0.7218,  0.0089]) tensor([-1.]) tensor([-1.]) tensor([-1.])\n",
      "tensor([-0.6247, -0.0025]) tensor([-1.]) tensor([-1.]) tensor([-1.])\n",
      "tensor([-0.7410,  0.0058]) tensor([-1.]) tensor([-1.]) tensor([-1.])\n",
      "tensor([-0.6250,  0.0201]) tensor([-1.]) tensor([-1.]) tensor([-1.])\n",
      "tensor([-0.6462,  0.0021]) tensor([-1.]) tensor([-1.]) tensor([-1.])\n",
      "tensor([-0.4852,  0.0148]) tensor([-1.]) tensor([-1.]) tensor([-1.])\n",
      "tensor([-0.5625, -0.0168]) tensor([-1.]) tensor([-1.]) tensor([-1.])\n",
      "tensor([-0.6519, -0.0225]) tensor([-1.]) tensor([-1.]) tensor([-1.])\n",
      "tensor([-0.3296,  0.0261]) tensor([-1.]) tensor([-1.]) tensor([-1.])\n",
      "tensor([-0.7878, -0.0181]) tensor([-1.]) tensor([-1.]) tensor([-1.])\n",
      "tensor([-0.3869,  0.0330]) tensor([-1.]) tensor([-1.]) tensor([-1.])\n",
      "tensor([-0.5786, -0.0306]) tensor([-1.]) tensor([-1.]) tensor([-1.])\n",
      "tensor([-0.6420,  0.0362]) tensor([-1.]) tensor([-1.]) tensor([-1.])\n",
      "tensor([-0.5388, -0.0302]) tensor([-1.]) tensor([-1.]) tensor([-1.])\n",
      "tensor([-0.5206, -0.0044]) tensor([-1.]) tensor([-1.]) tensor([-1.])\n",
      "tensor([-0.7414,  0.0199]) tensor([-1.]) tensor([-1.]) tensor([-1.])\n",
      "tensor([-0.2111, -0.0255]) tensor([-1.]) tensor([-1.]) tensor([-1.])\n",
      "tensor([-0.5244,  0.0363]) tensor([-1.]) tensor([-1.]) tensor([-1.])\n",
      "tensor([-0.5135,  0.0369]) tensor([-1.]) tensor([-1.]) tensor([-1.])\n",
      "tensor([-0.8166,  0.0287]) tensor([-1.]) tensor([-1.]) tensor([-1.])\n",
      "tensor([-0.7526,  0.0318]) tensor([-1.]) tensor([-1.]) tensor([-1.])\n",
      "tensor([-0.3153, -0.0218]) tensor([-1.]) tensor([-1.]) tensor([-1.])\n",
      "tensor([-0.8313,  0.0290]) tensor([-1.]) tensor([-1.]) tensor([-1.])\n",
      "tensor([-0.8015,  0.0304]) tensor([-1.]) tensor([-1.]) tensor([-1.])\n",
      "tensor([-0.5957,  0.0296]) tensor([-1.]) tensor([-1.]) tensor([-1.])\n",
      "tensor([-0.3621, -0.0214]) tensor([-1.]) tensor([-1.]) tensor([-1.])\n",
      "tensor([-0.2718,  0.0256]) tensor([-1.]) tensor([-1.]) tensor([-1.])\n",
      "tensor([-0.6251,  0.0349]) tensor([-1.]) tensor([-1.]) tensor([-1.])\n",
      "tensor([-0.7383,  0.0306]) tensor([-1.]) tensor([-1.]) tensor([-1.])\n",
      "tensor([-0.7842,  0.0293]) tensor([-1.]) tensor([-1.]) tensor([-1.])\n",
      "tensor([-0.2939, -0.0301]) tensor([-1.]) tensor([-1.]) tensor([-1.])\n",
      "tensor([-0.7468,  0.0338]) tensor([-1.]) tensor([-1.]) tensor([-1.])\n",
      "tensor([-0.4697,  0.0327]) tensor([-1.]) tensor([-1.]) tensor([-1.])\n",
      "tensor([-0.3325, -0.0304]) tensor([-1.]) tensor([-1.]) tensor([-1.])\n",
      "tensor([-0.5584,  0.0370]) tensor([-1.]) tensor([-1.]) tensor([-1.])\n",
      "tensor([-0.7971,  0.0307]) tensor([-1.]) tensor([-1.]) tensor([-1.])\n",
      "tensor([-4.7747e-01, -3.4158e-04]) tensor([-1.]) tensor([-1.]) tensor([-1.])\n",
      "tensor([-0.6535,  0.0370]) tensor([-1.]) tensor([-1.]) tensor([-1.])\n",
      "tensor([-4.7987e-01,  1.3261e-04]) tensor([-1.]) tensor([-1.]) tensor([-1.])\n",
      "tensor([-0.6582,  0.0349]) tensor([-1.]) tensor([-1.]) tensor([-1.])\n",
      "tensor([-0.4100,  0.0356]) tensor([-1.]) tensor([-1.]) tensor([-1.])\n",
      "tensor([-0.4696,  0.0038]) tensor([-1.]) tensor([-1.]) tensor([-1.])\n",
      "tensor([-0.4672, -0.0280]) tensor([-1.]) tensor([-1.]) tensor([-1.])\n",
      "tensor([-0.5613, -0.0288]) tensor([-1.]) tensor([-1.]) tensor([-1.])\n",
      "tensor([-0.5880, -0.0253]) tensor([-1.]) tensor([-1.]) tensor([-1.])\n",
      "Complete\n"
     ]
    }
   ],
   "source": [
    "num_episodes = 50\n",
    "history_loss, history_reward = ModelQ.train(num_episodes)"
   ]
  },
  {
   "cell_type": "code",
   "execution_count": 9,
   "metadata": {},
   "outputs": [
    {
     "data": {
      "text/plain": [
       "[<matplotlib.lines.Line2D at 0x7f371a67b240>]"
      ]
     },
     "execution_count": 9,
     "metadata": {},
     "output_type": "execute_result"
    },
    {
     "data": {
      "image/png": "[encoded data removed]",
      "text/plain": [
       "<Figure size 432x288 with 1 Axes>"
      ]
     },
     "metadata": {
      "needs_background": "light"
     },
     "output_type": "display_data"
    }
   ],
   "source": [
    "plt.plot(history_loss)"
   ]
  },
  {
   "cell_type": "code",
   "execution_count": 10,
   "metadata": {},
   "outputs": [
    {
     "data": {
      "text/plain": [
       "(0.00037822084102247445,\n",
       " [0.0031107702379813418,\n",
       "  0.0029472316288062044,\n",
       "  0.0027500805701129137,\n",
       "  0.0033070411028146935,\n",
       "  0.0028415116263388455])"
      ]
     },
     "execution_count": 10,
     "metadata": {},
     "output_type": "execute_result"
    }
   ],
   "source": [
    "history_loss[3], history_loss[45:50]"
   ]
  },
  {
   "cell_type": "code",
   "execution_count": 11,
   "metadata": {},
   "outputs": [
    {
     "data": {
      "text/plain": [
       "[<matplotlib.lines.Line2D at 0x7f371a60dda0>]"
      ]
     },
     "execution_count": 11,
     "metadata": {},
     "output_type": "execute_result"
    },
    {
     "data": {
      "image/png": "[encoded data removed]",
      "text/plain": [
       "<Figure size 432x288 with 1 Axes>"
      ]
     },
     "metadata": {
      "needs_background": "light"
     },
     "output_type": "display_data"
    }
   ],
   "source": [
    "plt.plot(history_reward)"
   ]
  },
  {
   "cell_type": "code",
   "execution_count": 12,
   "metadata": {},
   "outputs": [
    {
     "name": "stdout",
     "output_type": "stream",
     "text": [
      "tensor([0.5301, 0.0362]) tensor([100.])\n",
      "tensor([0.5040, 0.0334]) tensor([100.])\n",
      "tensor([0.5130, 0.0338]) tensor([100.])\n",
      "tensor([0.5088, 0.0171]) tensor([100.])\n",
      "tensor([0.5301, 0.0362]) tensor([100.])\n",
      "tensor([0.5321, 0.0330]) tensor([100.])\n",
      "tensor([0.5106, 0.0320]) tensor([100.])\n",
      "tensor([0.5228, 0.0312]) tensor([100.])\n",
      "tensor([0.5055, 0.0363]) tensor([100.])\n",
      "tensor([0.5301, 0.0362]) tensor([100.])\n",
      "tensor([0.5179, 0.0376]) tensor([100.])\n",
      "tensor([0.5353, 0.0373]) tensor([100.])\n",
      "tensor([0.5301, 0.0362]) tensor([100.])\n",
      "tensor([0.5127, 0.0355]) tensor([100.])\n",
      "tensor([0.5130, 0.0338]) tensor([100.])\n",
      "tensor([0.5301, 0.0362]) tensor([100.])\n",
      "tensor([0.5149, 0.0379]) tensor([100.])\n",
      "tensor([0.5200, 0.0322]) tensor([100.])\n",
      "tensor([0.5127, 0.0355]) tensor([100.])\n",
      "tensor([0.5299, 0.0356]) tensor([100.])\n",
      "tensor([0.5064, 0.0397]) tensor([100.])\n",
      "tensor([0.5200, 0.0316]) tensor([100.])\n",
      "tensor([0.5259, 0.0308]) tensor([100.])\n",
      "tensor([0.5141, 0.0318]) tensor([100.])\n",
      "tensor([0.5100, 0.0302]) tensor([100.])\n",
      "tensor([0.5124, 0.0304]) tensor([100.])\n",
      "tensor([0.5301, 0.0362]) tensor([100.])\n",
      "tensor([0.5061, 0.0332]) tensor([100.])\n",
      "tensor([0.5293, 0.0322]) tensor([100.])\n",
      "tensor([0.5081, 0.0336]) tensor([100.])\n",
      "tensor([0.5046, 0.0274]) tensor([100.])\n",
      "tensor([0.5064, 0.0397]) tensor([100.])\n",
      "tensor([0.5301, 0.0362]) tensor([100.])\n",
      "tensor([0.5209, 0.0324]) tensor([100.])\n",
      "tensor([0.5130, 0.0338]) tensor([100.])\n",
      "tensor([0.5364, 0.0373]) tensor([100.])\n",
      "tensor([0.5099, 0.0345]) tensor([100.])\n",
      "tensor([0.5183, 0.0320]) tensor([100.])\n",
      "tensor([0.5316, 0.0371]) tensor([100.])\n",
      "tensor([0.5129, 0.0346]) tensor([100.])\n",
      "tensor([0.5000, 0.0340]) tensor([100.])\n",
      "tensor([0.5218, 0.0295]) tensor([100.])\n",
      "tensor([0.5301, 0.0362]) tensor([100.])\n",
      "tensor([0.5123, 0.0354]) tensor([100.])\n",
      "tensor([0.5284, 0.0319]) tensor([100.])\n",
      "tensor([0.5301, 0.0362]) tensor([100.])\n",
      "tensor([0.5301, 0.0362]) tensor([100.])\n",
      "tensor([0.5222, 0.0283]) tensor([100.])\n",
      "tensor([0.5086, 0.0345]) tensor([100.])\n",
      "tensor([0.5301, 0.0362]) tensor([100.])\n",
      "100.0\n",
      "Complete\n"
     ]
    }
   ],
   "source": [
    "ModelQ.test(50, False)"
   ]
  },
  {
   "cell_type": "code",
   "execution_count": 13,
   "metadata": {},
   "outputs": [
    {
     "name": "stdout",
     "output_type": "stream",
     "text": [
      "tensor([0.5247, 0.0376]) tensor([100.])\n",
      "tensor([0.5301, 0.0362]) tensor([100.])\n",
      "tensor([0.5130, 0.0338]) tensor([100.])\n",
      "tensor([0.5198, 0.0328]) tensor([100.])\n",
      "tensor([0.5301, 0.0362]) tensor([100.])\n",
      "tensor([0.5010, 0.0329]) tensor([100.])\n",
      "tensor([0.5119, 0.0367]) tensor([100.])\n",
      "tensor([0.5239, 0.0257]) tensor([100.])\n",
      "tensor([0.5284, 0.0293]) tensor([100.])\n",
      "tensor([0.5086, 0.0314]) tensor([100.])\n",
      "tensor([0.5118, 0.0239]) tensor([100.])\n",
      "tensor([0.5249, 0.0285]) tensor([100.])\n",
      "tensor([0.5174, 0.0218]) tensor([100.])\n",
      "tensor([0.5183, 0.0320]) tensor([100.])\n",
      "tensor([0.5301, 0.0362]) tensor([100.])\n",
      "tensor([0.5223, 0.0326]) tensor([100.])\n",
      "tensor([0.5183, 0.0320]) tensor([100.])\n",
      "tensor([0.5301, 0.0362]) tensor([100.])\n",
      "tensor([0.5118, 0.0346]) tensor([100.])\n",
      "tensor([0.5102, 0.0351]) tensor([100.])\n",
      "tensor([0.5301, 0.0362]) tensor([100.])\n",
      "tensor([0.5153, 0.0347]) tensor([100.])\n",
      "tensor([0.5152, 0.0388]) tensor([100.])\n",
      "tensor([0.5178, 0.0318]) tensor([100.])\n",
      "tensor([0.5223, 0.0326]) tensor([100.])\n",
      "tensor([0.5321, 0.0382]) tensor([100.])\n",
      "tensor([0.5006, 0.0333]) tensor([100.])\n",
      "tensor([0.5089, 0.0304]) tensor([100.])\n",
      "tensor([0.5301, 0.0362]) tensor([100.])\n",
      "tensor([0.5081, 0.0336]) tensor([100.])\n",
      "tensor([0.5342, 0.0373]) tensor([100.])\n",
      "tensor([0.5288, 0.0381]) tensor([100.])\n",
      "tensor([0.5342, 0.0373]) tensor([100.])\n",
      "tensor([0.5258, 0.0338]) tensor([100.])\n",
      "tensor([0.5321, 0.0372]) tensor([100.])\n",
      "tensor([0.5301, 0.0362]) tensor([100.])\n",
      "tensor([0.5142, 0.0379]) tensor([100.])\n",
      "tensor([0.5087, 0.0348]) tensor([100.])\n",
      "tensor([0.5301, 0.0362]) tensor([100.])\n",
      "tensor([0.5301, 0.0362]) tensor([100.])\n",
      "tensor([0.5258, 0.0316]) tensor([100.])\n",
      "tensor([0.5129, 0.0346]) tensor([100.])\n",
      "tensor([0.5107, 0.0352]) tensor([100.])\n",
      "tensor([0.5021, 0.0059]) tensor([100.])\n",
      "tensor([0.5282, 0.0322]) tensor([100.])\n",
      "tensor([0.5069, 0.0294]) tensor([100.])\n",
      "tensor([0.5301, 0.0362]) tensor([100.])\n",
      "tensor([0.5195, 0.0338]) tensor([100.])\n",
      "tensor([0.5301, 0.0362]) tensor([100.])\n",
      "tensor([0.5064, 0.0397]) tensor([100.])\n",
      "tensor([0.5301, 0.0362]) tensor([100.])\n",
      "tensor([0.5301, 0.0362]) tensor([100.])\n",
      "tensor([0.5123, 0.0382]) tensor([100.])\n",
      "tensor([0.5264, 0.0284]) tensor([100.])\n",
      "tensor([0.5301, 0.0362]) tensor([100.])\n",
      "tensor([0.5290, 0.0381]) tensor([100.])\n",
      "tensor([0.5253, 0.0318]) tensor([100.])\n",
      "tensor([0.5311, 0.0372]) tensor([100.])\n",
      "tensor([0.5132, 0.0378]) tensor([100.])\n",
      "tensor([0.5301, 0.0362]) tensor([100.])\n",
      "tensor([0.5064, 0.0397]) tensor([100.])\n",
      "tensor([0.5273, 0.0330]) tensor([100.])\n",
      "tensor([0.5109, 0.0215]) tensor([100.])\n",
      "tensor([0.5012, 0.0299]) tensor([100.])\n",
      "tensor([0.5290, 0.0381]) tensor([100.])\n",
      "tensor([0.5301, 0.0362]) tensor([100.])\n",
      "tensor([0.5215, 0.0373]) tensor([100.])\n",
      "tensor([0.5301, 0.0362]) tensor([100.])\n",
      "tensor([0.5315, 0.0322]) tensor([100.])\n",
      "tensor([0.5132, 0.0378]) tensor([100.])\n",
      "tensor([0.5135, 0.0356]) tensor([100.])\n",
      "tensor([0.5130, 0.0313]) tensor([100.])\n",
      "tensor([0.5061, 0.0319]) tensor([100.])\n",
      "tensor([0.5131, 0.0356]) tensor([100.])\n",
      "tensor([0.5301, 0.0362]) tensor([100.])\n",
      "tensor([0.5132, 0.0378]) tensor([100.])\n",
      "tensor([0.5019, 0.0309]) tensor([100.])\n",
      "tensor([0.5034, 0.0343]) tensor([100.])\n",
      "tensor([0.5232, 0.0293]) tensor([100.])\n",
      "tensor([0.5191, 0.0349]) tensor([100.])\n",
      "tensor([0.5118, 0.0346]) tensor([100.])\n",
      "tensor([0.5200, 0.0323]) tensor([100.])\n",
      "tensor([0.5108, 0.0346]) tensor([100.])\n",
      "tensor([0.5301, 0.0362]) tensor([100.])\n",
      "tensor([0.5301, 0.0362]) tensor([100.])\n",
      "tensor([0.5087, 0.0348]) tensor([100.])\n",
      "tensor([0.5182, 0.0243]) tensor([100.])\n",
      "tensor([0.5222, 0.0356]) tensor([100.])\n",
      "tensor([0.5162, 0.0267]) tensor([100.])\n",
      "tensor([0.5341, 0.0382]) tensor([100.])\n",
      "tensor([0.5301, 0.0362]) tensor([100.])\n",
      "tensor([0.5119, 0.0345]) tensor([100.])\n",
      "tensor([0.5273, 0.0335]) tensor([100.])\n",
      "tensor([0.5251, 0.0341]) tensor([100.])\n",
      "tensor([0.5250, 0.0348]) tensor([100.])\n",
      "tensor([0.5207, 0.0327]) tensor([100.])\n",
      "tensor([0.5203, 0.0350]) tensor([100.])\n",
      "tensor([0.5141, 0.0347]) tensor([100.])\n",
      "tensor([0.5031, 0.0334]) tensor([100.])\n",
      "tensor([0.5261, 0.0280]) tensor([100.])\n",
      "tensor([0.5127, 0.0355]) tensor([100.])\n",
      "tensor([0.5021, 0.0033]) tensor([100.])\n",
      "tensor([0.5176, 0.0317]) tensor([100.])\n",
      "tensor([0.5331, 0.0373]) tensor([100.])\n",
      "tensor([0.5301, 0.0362]) tensor([100.])\n",
      "tensor([0.5264, 0.0347]) tensor([100.])\n",
      "tensor([0.5301, 0.0362]) tensor([100.])\n",
      "tensor([0.5069, 0.0188]) tensor([100.])\n",
      "tensor([0.5301, 0.0362]) tensor([100.])\n",
      "tensor([0.5178, 0.0349]) tensor([100.])\n",
      "tensor([0.5290, 0.0381]) tensor([100.])\n",
      "tensor([0.5301, 0.0362]) tensor([100.])\n",
      "tensor([0.5106, 0.0337]) tensor([100.])\n",
      "tensor([0.5200, 0.0334]) tensor([100.])\n",
      "tensor([0.4189, 0.0322]) tensor([-1.])\n",
      "tensor([0.5312, 0.0356]) tensor([100.])\n",
      "tensor([0.5083, 0.0348]) tensor([100.])\n",
      "tensor([0.5066, 0.0365]) tensor([100.])\n",
      "tensor([0.5141, 0.0343]) tensor([100.])\n",
      "tensor([0.5113, 0.0352]) tensor([100.])\n",
      "tensor([0.5204, 0.0340]) tensor([100.])\n",
      "tensor([0.5301, 0.0362]) tensor([100.])\n",
      "tensor([0.5060, 0.0310]) tensor([100.])\n",
      "tensor([0.5301, 0.0362]) tensor([100.])\n",
      "tensor([0.5119, 0.0320]) tensor([100.])\n",
      "tensor([0.5301, 0.0362]) tensor([100.])\n",
      "tensor([0.5311, 0.0372]) tensor([100.])\n",
      "tensor([0.5191, 0.0321]) tensor([100.])\n",
      "tensor([0.5301, 0.0362]) tensor([100.])\n",
      "tensor([0.5292, 0.0337]) tensor([100.])\n",
      "tensor([0.5262, 0.0290]) tensor([100.])\n",
      "tensor([0.5266, 0.0293]) tensor([100.])\n",
      "tensor([0.5301, 0.0362]) tensor([100.])\n",
      "tensor([0.5301, 0.0362]) tensor([100.])\n",
      "tensor([0.5079, 0.0346]) tensor([100.])\n",
      "tensor([0.5301, 0.0362]) tensor([100.])\n",
      "tensor([0.5166, 0.0348]) tensor([100.])\n",
      "tensor([0.5204, 0.0339]) tensor([100.])\n",
      "tensor([0.5353, 0.0373]) tensor([100.])\n",
      "tensor([0.5044, 0.0346]) tensor([100.])\n",
      "tensor([0.5183, 0.0320]) tensor([100.])\n",
      "tensor([0.5301, 0.0362]) tensor([100.])\n",
      "tensor([0.5286, 0.0352]) tensor([100.])\n",
      "tensor([0.5061, 0.0310]) tensor([100.])\n",
      "tensor([0.5301, 0.0362]) tensor([100.])\n",
      "tensor([0.5301, 0.0362]) tensor([100.])\n",
      "tensor([0.5263, 0.0320]) tensor([100.])\n",
      "tensor([0.5301, 0.0362]) tensor([100.])\n",
      "tensor([0.5097, 0.0350]) tensor([100.])\n",
      "tensor([0.5031, 0.0334]) tensor([100.])\n",
      "tensor([0.5213, 0.0339]) tensor([100.])\n",
      "tensor([0.5079, 0.0347]) tensor([100.])\n",
      "tensor([0.5076, 0.0366]) tensor([100.])\n",
      "tensor([0.5013, 0.0341]) tensor([100.])\n",
      "tensor([0.5301, 0.0320]) tensor([100.])\n",
      "tensor([0.5081, 0.0336]) tensor([100.])\n",
      "tensor([0.5301, 0.0362]) tensor([100.])\n",
      "tensor([0.5133, 0.0356]) tensor([100.])\n",
      "tensor([0.5253, 0.0318]) tensor([100.])\n",
      "tensor([0.5023, 0.0302]) tensor([100.])\n",
      "tensor([0.5301, 0.0362]) tensor([100.])\n",
      "tensor([0.5102, 0.0359]) tensor([100.])\n",
      "tensor([0.5096, 0.0369]) tensor([100.])\n",
      "tensor([0.5301, 0.0362]) tensor([100.])\n",
      "tensor([0.5021, 0.0345]) tensor([100.])\n",
      "tensor([0.5054, 0.0292]) tensor([100.])\n",
      "tensor([0.5019, 0.0342]) tensor([100.])\n",
      "tensor([0.5339, 0.0344]) tensor([100.])\n",
      "tensor([0.5301, 0.0362]) tensor([100.])\n",
      "tensor([0.5253, 0.0283]) tensor([100.])\n",
      "tensor([0.5301, 0.0362]) tensor([100.])\n",
      "tensor([0.5193, 0.0326]) tensor([100.])\n",
      "tensor([0.5240, 0.0343]) tensor([100.])\n",
      "tensor([0.5135, 0.0356]) tensor([100.])\n",
      "tensor([0.5301, 0.0362]) tensor([100.])\n",
      "tensor([0.5283, 0.0353]) tensor([100.])\n",
      "tensor([0.5015, 0.0360]) tensor([100.])\n",
      "tensor([0.5126, 0.0380]) tensor([100.])\n",
      "tensor([0.5301, 0.0362]) tensor([100.])\n",
      "tensor([0.5006, 0.0333]) tensor([100.])\n",
      "tensor([0.5274, 0.0350]) tensor([100.])\n",
      "tensor([0.5183, 0.0320]) tensor([100.])\n",
      "tensor([0.5245, 0.0258]) tensor([100.])\n",
      "tensor([0.5066, 0.0365]) tensor([100.])\n",
      "tensor([0.5301, 0.0362]) tensor([100.])\n",
      "tensor([0.5301, 0.0362]) tensor([100.])\n",
      "tensor([0.5092, 0.0349]) tensor([100.])\n",
      "tensor([0.5006, 0.0333]) tensor([100.])\n",
      "tensor([0.5163, 0.0334]) tensor([100.])\n",
      "tensor([0.5009, 0.0303]) tensor([100.])\n",
      "tensor([0.5083, 0.0348]) tensor([100.])\n",
      "tensor([0.5223, 0.0340]) tensor([100.])\n",
      "tensor([0.5275, 0.0319]) tensor([100.])\n",
      "tensor([0.5301, 0.0362]) tensor([100.])\n",
      "tensor([0.5301, 0.0362]) tensor([100.])\n",
      "tensor([0.5321, 0.0382]) tensor([100.])\n",
      "tensor([0.5301, 0.0362]) tensor([100.])\n",
      "tensor([0.5203, 0.0350]) tensor([100.])\n",
      "tensor([0.5301, 0.0362]) tensor([100.])\n",
      "tensor([0.5301, 0.0362]) tensor([100.])\n",
      "tensor([0.5178, 0.0382]) tensor([100.])\n",
      "tensor([0.5031, 0.0267]) tensor([100.])\n",
      "tensor([0.5053, 0.0326]) tensor([100.])\n",
      "tensor([0.5301, 0.0362]) tensor([100.])\n",
      "tensor([0.5130, 0.0338]) tensor([100.])\n",
      "tensor([0.5362, 0.0383]) tensor([100.])\n",
      "tensor([0.5083, 0.0348]) tensor([100.])\n",
      "tensor([0.5087, 0.0348]) tensor([100.])\n",
      "tensor([0.5070, 0.0365]) tensor([100.])\n",
      "tensor([0.5054, 0.0059]) tensor([100.])\n",
      "tensor([0.5301, 0.0362]) tensor([100.])\n",
      "tensor([0.5265, 0.0349]) tensor([100.])\n",
      "tensor([0.5063, 0.0274]) tensor([100.])\n",
      "tensor([0.5092, 0.0349]) tensor([100.])\n",
      "tensor([0.5113, 0.0372]) tensor([100.])\n",
      "tensor([0.5215, 0.0316]) tensor([100.])\n",
      "tensor([0.5301, 0.0362]) tensor([100.])\n",
      "tensor([0.5362, 0.0383]) tensor([100.])\n",
      "tensor([0.5059, 0.0277]) tensor([100.])\n",
      "tensor([0.5071, 0.0293]) tensor([100.])\n",
      "tensor([0.5301, 0.0362]) tensor([100.])\n",
      "tensor([0.5301, 0.0362]) tensor([100.])\n",
      "tensor([0.5079, 0.0347]) tensor([100.])\n",
      "tensor([0.5261, 0.0343]) tensor([100.])\n",
      "tensor([0.5119, 0.0374]) tensor([100.])\n",
      "tensor([0.5236, 0.0289]) tensor([100.])\n",
      "tensor([0.5211, 0.0341]) tensor([100.])\n",
      "tensor([0.5118, 0.0346]) tensor([100.])\n",
      "tensor([0.5072, 0.0366]) tensor([100.])\n",
      "tensor([0.5301, 0.0362]) tensor([100.])\n",
      "tensor([0.5362, 0.0383]) tensor([100.])\n",
      "tensor([0.5285, 0.0380]) tensor([100.])\n",
      "tensor([0.5301, 0.0362]) tensor([100.])\n",
      "tensor([0.5191, 0.0321]) tensor([100.])\n",
      "tensor([0.5301, 0.0362]) tensor([100.])\n",
      "tensor([0.4981, 0.0332]) tensor([-1.])\n",
      "tensor([0.5364, 0.0373]) tensor([100.])\n",
      "tensor([0.5301, 0.0362]) tensor([100.])\n",
      "tensor([0.5086, 0.0368]) tensor([100.])\n",
      "tensor([0.5301, 0.0362]) tensor([100.])\n",
      "tensor([0.5157, 0.0252]) tensor([100.])\n",
      "tensor([0.5331, 0.0373]) tensor([100.])\n",
      "tensor([0.5053, 0.0299]) tensor([100.])\n",
      "tensor([0.5233, 0.0317]) tensor([100.])\n",
      "tensor([0.5006, 0.0287]) tensor([100.])\n",
      "tensor([0.5301, 0.0362]) tensor([100.])\n",
      "tensor([0.5301, 0.0362]) tensor([100.])\n",
      "tensor([0.5301, 0.0362]) tensor([100.])\n",
      "tensor([0.5264, 0.0347]) tensor([100.])\n",
      "tensor([0.5301, 0.0362]) tensor([100.])\n",
      "tensor([0.5301, 0.0362]) tensor([100.])\n",
      "tensor([0.5301, 0.0362]) tensor([100.])\n",
      "tensor([0.5276, 0.0319]) tensor([100.])\n",
      "tensor([0.5257, 0.0310]) tensor([100.])\n",
      "tensor([0.5129, 0.0377]) tensor([100.])\n",
      "tensor([0.5301, 0.0362]) tensor([100.])\n",
      "tensor([0.5243, 0.0309]) tensor([100.])\n",
      "tensor([0.5017, 0.0291]) tensor([100.])\n",
      "tensor([0.4418, 0.0338]) tensor([-1.])\n",
      "tensor([0.5149, 0.0289]) tensor([100.])\n",
      "tensor([0.5312, 0.0347]) tensor([100.])\n",
      "tensor([0.5203, 0.0358]) tensor([100.])\n",
      "tensor([0.5178, 0.0325]) tensor([100.])\n",
      "tensor([0.5261, 0.0336]) tensor([100.])\n",
      "tensor([0.5207, 0.0358]) tensor([100.])\n",
      "tensor([0.5313, 0.0356]) tensor([100.])\n",
      "tensor([0.5301, 0.0362]) tensor([100.])\n",
      "tensor([0.5131, 0.0356]) tensor([100.])\n",
      "tensor([0.5301, 0.0362]) tensor([100.])\n",
      "tensor([0.5199, 0.0299]) tensor([100.])\n",
      "tensor([0.5191, 0.0321]) tensor([100.])\n",
      "tensor([0.5129, 0.0377]) tensor([100.])\n",
      "tensor([0.5096, 0.0386]) tensor([100.])\n",
      "tensor([0.5092, 0.0349]) tensor([100.])\n",
      "tensor([0.5066, 0.0365]) tensor([100.])\n",
      "tensor([0.5301, 0.0362]) tensor([100.])\n",
      "tensor([0.5301, 0.0362]) tensor([100.])\n",
      "tensor([0.5135, 0.0356]) tensor([100.])\n",
      "tensor([0.5127, 0.0355]) tensor([100.])\n",
      "tensor([0.5118, 0.0346]) tensor([100.])\n",
      "tensor([0.5132, 0.0378]) tensor([100.])\n",
      "tensor([0.5301, 0.0362]) tensor([100.])\n",
      "tensor([0.5301, 0.0362]) tensor([100.])\n",
      "tensor([0.5301, 0.0362]) tensor([100.])\n",
      "tensor([0.5321, 0.0372]) tensor([100.])\n",
      "tensor([0.5138, 0.0304]) tensor([100.])\n",
      "tensor([0.5301, 0.0362]) tensor([100.])\n",
      "tensor([0.5083, 0.0348]) tensor([100.])\n",
      "tensor([0.5234, 0.0287]) tensor([100.])\n",
      "tensor([0.5173, 0.0357]) tensor([100.])\n",
      "tensor([0.5293, 0.0353]) tensor([100.])\n",
      "tensor([0.5081, 0.0336]) tensor([100.])\n",
      "tensor([0.5056, 0.0335]) tensor([100.])\n",
      "tensor([0.5301, 0.0362]) tensor([100.])\n",
      "tensor([0.5176, 0.0334]) tensor([100.])\n",
      "tensor([0.5301, 0.0362]) tensor([100.])\n",
      "tensor([0.5279, 0.0379]) tensor([100.])\n",
      "tensor([0.5301, 0.0362]) tensor([100.])\n",
      "tensor([0.5301, 0.0362]) tensor([100.])\n",
      "tensor([0.5005, 0.0372]) tensor([100.])\n",
      "tensor([0.5191, 0.0349]) tensor([100.])\n",
      "tensor([0.5015, 0.0325]) tensor([100.])\n",
      "tensor([0.5173, 0.0358]) tensor([100.])\n",
      "tensor([0.5235, 0.0326]) tensor([100.])\n",
      "tensor([0.5127, 0.0355]) tensor([100.])\n",
      "tensor([0.5301, 0.0362]) tensor([100.])\n",
      "tensor([0.5001, 0.0386]) tensor([100.])\n",
      "tensor([0.5191, 0.0349]) tensor([100.])\n",
      "tensor([0.5032, 0.0134]) tensor([100.])\n",
      "tensor([0.5233, 0.0317]) tensor([100.])\n",
      "tensor([0.5183, 0.0320]) tensor([100.])\n",
      "tensor([0.5141, 0.0347]) tensor([100.])\n",
      "tensor([0.5178, 0.0349]) tensor([100.])\n",
      "tensor([0.5353, 0.0373]) tensor([100.])\n",
      "tensor([0.5130, 0.0338]) tensor([100.])\n",
      "tensor([0.5301, 0.0362]) tensor([100.])\n",
      "tensor([0.5301, 0.0362]) tensor([100.])\n",
      "tensor([0.5139, 0.0380]) tensor([100.])\n",
      "tensor([0.5240, 0.0256]) tensor([100.])\n",
      "tensor([0.5102, 0.0351]) tensor([100.])\n",
      "tensor([0.5285, 0.0380]) tensor([100.])\n",
      "tensor([0.5183, 0.0320]) tensor([100.])\n",
      "tensor([0.5301, 0.0362]) tensor([100.])\n",
      "tensor([0.5301, 0.0362]) tensor([100.])\n",
      "tensor([0.5364, 0.0373]) tensor([100.])\n",
      "tensor([0.5301, 0.0362]) tensor([100.])\n",
      "tensor([0.5036, 0.0118]) tensor([100.])\n",
      "tensor([0.5268, 0.0288]) tensor([100.])\n",
      "tensor([0.5301, 0.0362]) tensor([100.])\n",
      "tensor([0.5166, 0.0293]) tensor([100.])\n",
      "tensor([0.5168, 0.0386]) tensor([100.])\n",
      "tensor([0.5321, 0.0382]) tensor([100.])\n",
      "tensor([0.5301, 0.0362]) tensor([100.])\n",
      "tensor([0.5301, 0.0362]) tensor([100.])\n",
      "tensor([0.5020, 0.0310]) tensor([100.])\n",
      "tensor([0.5093, 0.0345]) tensor([100.])\n",
      "tensor([0.5031, 0.0334]) tensor([100.])\n",
      "tensor([0.5301, 0.0362]) tensor([100.])\n",
      "tensor([0.5301, 0.0362]) tensor([100.])\n",
      "tensor([0.5123, 0.0354]) tensor([100.])\n",
      "tensor([0.5301, 0.0362]) tensor([100.])\n",
      "tensor([0.5132, 0.0378]) tensor([100.])\n",
      "tensor([0.5145, 0.0277]) tensor([100.])\n",
      "tensor([0.5153, 0.0347]) tensor([100.])\n",
      "tensor([0.5092, 0.0345]) tensor([100.])\n",
      "tensor([0.5177, 0.0317]) tensor([100.])\n",
      "tensor([0.5291, 0.0297]) tensor([100.])\n",
      "tensor([0.5193, 0.0344]) tensor([100.])\n",
      "tensor([0.5301, 0.0362]) tensor([100.])\n",
      "tensor([0.5288, 0.0381]) tensor([100.])\n",
      "tensor([0.5020, 0.0325]) tensor([100.])\n",
      "tensor([0.5301, 0.0362]) tensor([100.])\n",
      "tensor([0.5301, 0.0362]) tensor([100.])\n",
      "tensor([0.5127, 0.0355]) tensor([100.])\n",
      "tensor([0.5252, 0.0345]) tensor([100.])\n",
      "tensor([0.5301, 0.0362]) tensor([100.])\n",
      "tensor([0.5178, 0.0318]) tensor([100.])\n",
      "tensor([0.5301, 0.0362]) tensor([100.])\n",
      "tensor([0.5042, 0.0396]) tensor([100.])\n",
      "tensor([0.5301, 0.0362]) tensor([100.])\n",
      "tensor([0.5107, 0.0352]) tensor([100.])\n",
      "tensor([0.5301, 0.0362]) tensor([100.])\n",
      "tensor([0.5301, 0.0320]) tensor([100.])\n",
      "tensor([0.5301, 0.0362]) tensor([100.])\n",
      "tensor([0.5094, 0.0231]) tensor([100.])\n",
      "tensor([0.5253, 0.0385]) tensor([100.])\n",
      "tensor([0.5301, 0.0362]) tensor([100.])\n",
      "tensor([0.5341, 0.0382]) tensor([100.])\n",
      "tensor([0.5301, 0.0362]) tensor([100.])\n",
      "tensor([0.5216, 0.0350]) tensor([100.])\n",
      "tensor([0.5301, 0.0362]) tensor([100.])\n",
      "tensor([0.5301, 0.0362]) tensor([100.])\n",
      "tensor([0.5285, 0.0380]) tensor([100.])\n",
      "tensor([0.5084, 0.0340]) tensor([100.])\n",
      "tensor([0.5306, 0.0355]) tensor([100.])\n",
      "tensor([0.5079, 0.0347]) tensor([100.])\n",
      "tensor([0.5301, 0.0362]) tensor([100.])\n",
      "tensor([0.5191, 0.0321]) tensor([100.])\n",
      "tensor([0.5325, 0.0359]) tensor([100.])\n",
      "tensor([0.5301, 0.0362]) tensor([100.])\n",
      "tensor([0.5228, 0.0308]) tensor([100.])\n",
      "tensor([0.5169, 0.0369]) tensor([100.])\n",
      "tensor([0.5135, 0.0356]) tensor([100.])\n",
      "tensor([0.5138, 0.0362]) tensor([100.])\n",
      "tensor([0.5191, 0.0349]) tensor([100.])\n",
      "tensor([0.5228, 0.0317]) tensor([100.])\n",
      "tensor([0.5069, 0.0304]) tensor([100.])\n",
      "tensor([0.5118, 0.0346]) tensor([100.])\n",
      "tensor([0.5276, 0.0319]) tensor([100.])\n",
      "tensor([0.5301, 0.0362]) tensor([100.])\n",
      "tensor([0.5080, 0.0336]) tensor([100.])\n",
      "tensor([0.5290, 0.0308]) tensor([100.])\n",
      "tensor([0.5083, 0.0348]) tensor([100.])\n",
      "tensor([0.5250, 0.0329]) tensor([100.])\n",
      "tensor([0.5242, 0.0337]) tensor([100.])\n",
      "tensor([0.5056, 0.0335]) tensor([100.])\n",
      "tensor([0.5098, 0.0343]) tensor([100.])\n",
      "tensor([0.5301, 0.0362]) tensor([100.])\n",
      "tensor([0.5215, 0.0316]) tensor([100.])\n",
      "tensor([0.5099, 0.0345]) tensor([100.])\n",
      "tensor([0.5342, 0.0373]) tensor([100.])\n",
      "tensor([0.5189, 0.0373]) tensor([100.])\n",
      "tensor([0.5342, 0.0373]) tensor([100.])\n",
      "tensor([0.5081, 0.0336]) tensor([100.])\n",
      "tensor([0.5105, 0.0371]) tensor([100.])\n",
      "tensor([0.5301, 0.0362]) tensor([100.])\n",
      "tensor([0.5301, 0.0362]) tensor([100.])\n",
      "tensor([0.5310, 0.0313]) tensor([100.])\n",
      "tensor([0.5301, 0.0362]) tensor([100.])\n",
      "tensor([0.5096, 0.0369]) tensor([100.])\n",
      "tensor([0.5162, 0.0315]) tensor([100.])\n",
      "tensor([0.5020, 0.0395]) tensor([100.])\n",
      "tensor([0.5301, 0.0362]) tensor([100.])\n",
      "tensor([0.5217, 0.0342]) tensor([100.])\n",
      "tensor([0.5276, 0.0319]) tensor([100.])\n",
      "tensor([0.5168, 0.0327]) tensor([100.])\n",
      "tensor([0.5020, 0.0395]) tensor([100.])\n",
      "tensor([0.5092, 0.0349]) tensor([100.])\n",
      "tensor([0.5127, 0.0388]) tensor([100.])\n",
      "tensor([0.5023, 0.0299]) tensor([100.])\n",
      "tensor([0.5301, 0.0362]) tensor([100.])\n",
      "tensor([0.5301, 0.0362]) tensor([100.])\n",
      "tensor([0.5077, 0.0319]) tensor([100.])\n",
      "tensor([0.5201, 0.0395]) tensor([100.])\n",
      "tensor([0.5086, 0.0368]) tensor([100.])\n",
      "tensor([0.5078, 0.0346]) tensor([100.])\n",
      "tensor([0.5301, 0.0320]) tensor([100.])\n",
      "tensor([0.5159, 0.0356]) tensor([100.])\n",
      "tensor([0.5130, 0.0338]) tensor([100.])\n",
      "tensor([0.5031, 0.0334]) tensor([100.])\n",
      "tensor([0.5181, 0.0316]) tensor([100.])\n",
      "tensor([0.5107, 0.0352]) tensor([100.])\n",
      "tensor([0.5056, 0.0335]) tensor([100.])\n",
      "tensor([0.5279, 0.0324]) tensor([100.])\n",
      "tensor([0.5301, 0.0362]) tensor([100.])\n",
      "tensor([0.5301, 0.0362]) tensor([100.])\n",
      "tensor([0.5301, 0.0362]) tensor([100.])\n",
      "tensor([0.5254, 0.0298]) tensor([100.])\n",
      "tensor([0.5129, 0.0346]) tensor([100.])\n",
      "tensor([0.5301, 0.0362]) tensor([100.])\n",
      "tensor([0.5234, 0.0343]) tensor([100.])\n",
      "tensor([0.5073, 0.0355]) tensor([100.])\n",
      "tensor([0.5301, 0.0362]) tensor([100.])\n",
      "tensor([0.5081, 0.0345]) tensor([100.])\n",
      "tensor([0.5004, 0.0274]) tensor([100.])\n",
      "tensor([0.5257, 0.0338]) tensor([100.])\n",
      "tensor([0.5105, 0.0371]) tensor([100.])\n",
      "tensor([0.5325, 0.0340]) tensor([100.])\n",
      "tensor([0.5236, 0.0289]) tensor([100.])\n",
      "tensor([0.5105, 0.0371]) tensor([100.])\n",
      "tensor([0.5276, 0.0292]) tensor([100.])\n",
      "tensor([0.5321, 0.0372]) tensor([100.])\n",
      "tensor([0.5254, 0.0348]) tensor([100.])\n",
      "tensor([0.5301, 0.0362]) tensor([100.])\n",
      "tensor([0.5301, 0.0362]) tensor([100.])\n",
      "tensor([0.5168, 0.0386]) tensor([100.])\n",
      "tensor([0.5251, 0.0334]) tensor([100.])\n",
      "tensor([0.5092, 0.0345]) tensor([100.])\n",
      "tensor([0.5002, 0.0271]) tensor([100.])\n",
      "tensor([0.5267, 0.0325]) tensor([100.])\n",
      "tensor([0.5301, 0.0362]) tensor([100.])\n",
      "tensor([0.5107, 0.0352]) tensor([100.])\n",
      "tensor([0.5070, 0.0366]) tensor([100.])\n",
      "tensor([0.5301, 0.0362]) tensor([100.])\n",
      "tensor([0.5301, 0.0362]) tensor([100.])\n",
      "tensor([0.5301, 0.0362]) tensor([100.])\n",
      "tensor([0.5063, 0.0302]) tensor([100.])\n",
      "tensor([0.5022, 0.0361]) tensor([100.])\n",
      "tensor([0.5098, 0.0366]) tensor([100.])\n",
      "tensor([0.5155, 0.0328]) tensor([100.])\n",
      "tensor([0.5076, 0.0366]) tensor([100.])\n",
      "tensor([0.5301, 0.0362]) tensor([100.])\n",
      "tensor([0.5288, 0.0381]) tensor([100.])\n",
      "tensor([0.5301, 0.0362]) tensor([100.])\n",
      "tensor([0.5301, 0.0362]) tensor([100.])\n",
      "tensor([0.5301, 0.0362]) tensor([100.])\n",
      "tensor([0.5000, 0.0007]) tensor([100.])\n",
      "tensor([0.5301, 0.0362]) tensor([100.])\n",
      "tensor([0.5301, 0.0362]) tensor([100.])\n",
      "tensor([0.5129, 0.0355]) tensor([100.])\n",
      "tensor([0.5099, 0.0345]) tensor([100.])\n",
      "tensor([0.5301, 0.0362]) tensor([100.])\n",
      "tensor([0.5178, 0.0318]) tensor([100.])\n",
      "tensor([0.5116, 0.0304]) tensor([100.])\n",
      "tensor([0.5301, 0.0362]) tensor([100.])\n",
      "tensor([0.5001, 0.0386]) tensor([100.])\n",
      "tensor([0.5301, 0.0362]) tensor([100.])\n",
      "tensor([0.5113, 0.0352]) tensor([100.])\n",
      "tensor([0.5091, 0.0346]) tensor([100.])\n",
      "tensor([0.5301, 0.0362]) tensor([100.])\n",
      "tensor([0.5030, 0.0315]) tensor([100.])\n",
      "tensor([0.5020, 0.0395]) tensor([100.])\n",
      "tensor([0.5301, 0.0362]) tensor([100.])\n",
      "tensor([0.5308, 0.0344]) tensor([100.])\n",
      "tensor([0.5058, 0.0271]) tensor([100.])\n",
      "tensor([0.5118, 0.0353]) tensor([100.])\n",
      "tensor([0.5154, 0.0356]) tensor([100.])\n",
      "tensor([0.5020, 0.0395]) tensor([100.])\n",
      "tensor([0.5033, 0.0210]) tensor([100.])\n",
      "tensor([0.5301, 0.0362]) tensor([100.])\n",
      "99.4\n",
      "Complete\n"
     ]
    }
   ],
   "source": [
    "Transition = namedtuple('Transition',\n",
    "                        ('state', 'action', 'reward'))\n",
    "memory = ReplayDataset(150000, Transition)\n",
    "history_rewards, history_discounted_rewards = ModelQ.test(500, False, memory=memory)"
   ]
  },
  {
   "cell_type": "code",
   "execution_count": 14,
   "metadata": {},
   "outputs": [
    {
     "data": {
      "text/plain": [
       "78128"
      ]
     },
     "execution_count": 14,
     "metadata": {},
     "output_type": "execute_result"
    }
   ],
   "source": [
    "size_MCv0 = len(memory.memory)\n",
    "size_MCv0"
   ]
  },
  {
   "cell_type": "code",
   "execution_count": 15,
   "metadata": {},
   "outputs": [
    {
     "data": {
      "text/plain": [
       "[<matplotlib.lines.Line2D at 0x7f3718ef1668>]"
      ]
     },
     "execution_count": 15,
     "metadata": {},
     "output_type": "execute_result"
    },
    {
     "data": {
      "image/png": "[encoded data removed]",
      "text/plain": [
       "<Figure size 432x288 with 1 Axes>"
      ]
     },
     "metadata": {
      "needs_background": "light"
     },
     "output_type": "display_data"
    }
   ],
   "source": [
    "plt.plot(history_rewards)"
   ]
  },
  {
   "cell_type": "code",
   "execution_count": 16,
   "metadata": {},
   "outputs": [
    {
     "data": {
      "text/plain": [
       "[<matplotlib.lines.Line2D at 0x7f3718ecc278>]"
      ]
     },
     "execution_count": 16,
     "metadata": {},
     "output_type": "execute_result"
    },
    {
     "data": {
      "image/png": "[encoded data removed]",
      "text/plain": [
       "<Figure size 432x288 with 1 Axes>"
      ]
     },
     "metadata": {
      "needs_background": "light"
     },
     "output_type": "display_data"
    }
   ],
   "source": [
    "plt.plot(history_discounted_rewards)"
   ]
  },
  {
   "cell_type": "code",
   "execution_count": 17,
   "metadata": {},
   "outputs": [],
   "source": [
    "from model import Actor, Critic, OrnsteinUhlenbeckActionNoise, NormalActionNoise, RandomActionNoise\n",
    "from train import to_var, Optimizer_AC, Artificial_environment_noise_t, \\\n",
    "Artificial_environment_base_t, Artificial_environment_base_and_noise_t, Launcher_t, train, test, \\\n",
    "train_wo_launcher, Optimizer_Critic, Optimizer_Actor, fill_memory\n",
    "from torch.optim.lr_scheduler import StepLR"
   ]
  },
  {
   "cell_type": "code",
   "execution_count": 18,
   "metadata": {},
   "outputs": [
    {
     "name": "stdout",
     "output_type": "stream",
     "text": [
      "Box(1,) [1.] [-1.]\n",
      "2 [0.6  0.07] [-1.2  -0.07]\n"
     ]
    }
   ],
   "source": [
    "env = gym.make('MountainCarContinuous-v0')\n",
    "print(env.action_space, env.action_space.high, env.action_space.low)\n",
    "print(env.observation_space.shape[0], env.observation_space.high, env.observation_space.low)"
   ]
  },
  {
   "cell_type": "code",
   "execution_count": 19,
   "metadata": {},
   "outputs": [
    {
     "name": "stdout",
     "output_type": "stream",
     "text": [
      "11 65418\n"
     ]
    }
   ],
   "source": [
    "num_episodes = 70\n",
    "noise_power = 2.5\n",
    "noise = OrnsteinUhlenbeckActionNoise(mu=np.zeros(1))\n",
    "Artificial_environment_noise = Artificial_environment_noise_t(noise, env, noise_power)\n",
    "Launcher = Launcher_t(Artificial_environment_noise, memory, GAMMA, BATCH_SIZE)\n",
    "history_rewards, history_discounted_rewards, success = fill_memory(Launcher, num_episodes)\n",
    "print(success, len(memory.memory) - size_MCv0)"
   ]
  },
  {
   "cell_type": "code",
   "execution_count": 20,
   "metadata": {},
   "outputs": [
    {
     "data": {
      "text/plain": [
       "[<matplotlib.lines.Line2D at 0x7f3713b67ef0>]"
      ]
     },
     "execution_count": 20,
     "metadata": {},
     "output_type": "execute_result"
    },
    {
     "data": {
      "image/png": "[encoded data removed]",
      "text/plain": [
       "<Figure size 432x288 with 1 Axes>"
      ]
     },
     "metadata": {
      "needs_background": "light"
     },
     "output_type": "display_data"
    }
   ],
   "source": [
    "plt.plot(history_discounted_rewards)"
   ]
  },
  {
   "cell_type": "code",
   "execution_count": 21,
   "metadata": {},
   "outputs": [
    {
     "name": "stdout",
     "output_type": "stream",
     "text": [
      "[-0.12136484]\n"
     ]
    }
   ],
   "source": [
    "LRA=0.001      #LEARNING RATE ACTOR\n",
    "LRC=0.01     #LEARNING RATE CRITIC\n",
    "epsilon = 1\n",
    "epsilon_decay = 1./1000000\n",
    "noise_power = 3\n",
    "noise = OrnsteinUhlenbeckActionNoise(mu=np.zeros(1))\n",
    "#noise = NormalActionNoise(np.zeros(1), 1)\n",
    "print(noise_power*noise())\n",
    "#q_scheduler = StepLR(q_optimizer, step_size = 5, gamma = 0.1)\n",
    "\n",
    "Transition = namedtuple('Transition',\n",
    "                        ('state', 'action', 'reward'))\n",
    "loss_fn = nn.MSELoss().type(torch.FloatTensor)"
   ]
  },
  {
   "cell_type": "code",
   "execution_count": 22,
   "metadata": {},
   "outputs": [],
   "source": [
    "critic = Critic(env.observation_space.shape[0], 1)"
   ]
  },
  {
   "cell_type": "code",
   "execution_count": 23,
   "metadata": {},
   "outputs": [],
   "source": [
    "q_optimizer = optim.Adam(critic.parameters(), lr=LRC)\n",
    "q_scheduler = StepLR(q_optimizer, step_size = 5, gamma = 0.1)\n",
    "\n",
    "optimizer_critic = Optimizer_Critic(critic, q_optimizer, memory, loss_fn, q_scheduler)"
   ]
  },
  {
   "cell_type": "code",
   "execution_count": 24,
   "metadata": {},
   "outputs": [
    {
     "name": "stdout",
     "output_type": "stream",
     "text": [
      "episode  0 : loss =  (19.63439605012478, 0.0)  q =  -7.481726004749975\n",
      "episode  1 : loss =  (15.835088462067135, 0.0)  q =  -7.514660807058209\n",
      "episode  2 : loss =  (15.160203720914211, 0.0)  q =  -7.517519716460738\n",
      "episode  3 : loss =  (14.809245224427057, 0.0)  q =  -7.515013720513028\n",
      "episode  4 : loss =  (14.55300605249256, 0.0)  q =  -7.518291464659235\n",
      "episode  5 : loss =  (14.394208844339797, 0.0)  q =  -7.52151215908201\n",
      "episode  6 : loss =  (14.282963267618454, 0.0)  q =  -7.517484107375729\n",
      "episode  7 : loss =  (14.22510919862878, 0.0)  q =  -7.519639322548321\n",
      "episode  8 : loss =  (14.15193219492417, 0.0)  q =  -7.520680877602212\n",
      "episode  9 : loss =  (14.084304424252723, 0.0)  q =  -7.5223812966329735\n",
      "episode  10 : loss =  (14.058748166014452, 0.0)  q =  -7.522340019473103\n",
      "episode  11 : loss =  (13.931786113586798, 0.0)  q =  -7.523392402270092\n",
      "episode  12 : loss =  (13.916843443077028, 0.0)  q =  -7.524790272136591\n",
      "episode  13 : loss =  (13.89569275952106, 0.0)  q =  -7.52463544539134\n",
      "episode  14 : loss =  (13.824660174222009, 0.0)  q =  -7.525810243825109\n",
      "episode  15 : loss =  (13.83344181382228, 0.0)  q =  -7.522978774469132\n",
      "episode  16 : loss =  (13.773081085164238, 0.0)  q =  -7.523670915456101\n",
      "episode  17 : loss =  (13.780891339869955, 0.0)  q =  -7.526409014973106\n",
      "episode  18 : loss =  (13.730559742101685, 0.0)  q =  -7.523122160470863\n",
      "episode  19 : loss =  (13.707530404575737, 0.0)  q =  -7.525506429862508\n"
     ]
    }
   ],
   "source": [
    "num_episodes = 20\n",
    "history_loss = train_wo_launcher(memory, BATCH_SIZE, optimizer_critic, num_episodes)"
   ]
  },
  {
   "cell_type": "code",
   "execution_count": 25,
   "metadata": {},
   "outputs": [],
   "source": [
    "LRA = 0.001      #LEARNING RATE ACTOR\n",
    "actor = Actor(env.observation_space.shape[0], 1, power = 3.0)\n",
    "actor.linear1.load_state_dict(policy_net.linear1.state_dict())\n",
    "\n",
    "policy_optimizer= optim.Adam(actor.parameters(), lr=LRA)\n",
    "policy_scheduler = StepLR(policy_optimizer, step_size = 5, gamma = 0.1)\n",
    "optimizer_actor = Optimizer_Actor(actor, critic, policy_optimizer, memory, loss_fn, policy_scheduler)"
   ]
  },
  {
   "cell_type": "code",
   "execution_count": 26,
   "metadata": {},
   "outputs": [
    {
     "name": "stdout",
     "output_type": "stream",
     "text": [
      "episode  0 : loss =  (0.0, 3.568015665723845)  q =  -7.078383481986173\n",
      "episode  1 : loss =  (0.0, 3.5677544299127115)  q =  -7.078222280998502\n",
      "episode  2 : loss =  (0.0, 3.5677838998521847)  q =  -7.078199761072228\n",
      "episode  3 : loss =  (0.0, 3.5678216120183026)  q =  -7.078237311679553\n",
      "episode  4 : loss =  (0.0, 3.5677979315951855)  q =  -7.078107034102434\n",
      "episode  5 : loss =  (0.0, 3.5678405451161637)  q =  -7.078302742512269\n",
      "episode  6 : loss =  (0.0, 3.5677479992544865)  q =  -7.078403414199249\n",
      "episode  7 : loss =  (0.0, 3.5677859135661802)  q =  -7.078145094657656\n",
      "episode  8 : loss =  (0.0, 3.567811605905164)  q =  -7.07825232298843\n",
      "episode  9 : loss =  (0.0, 3.567807027145275)  q =  -7.078343348475476\n",
      "episode  10 : loss =  (0.0, 3.5678344994743565)  q =  -7.078338234885909\n",
      "episode  11 : loss =  (0.0, 3.5678000237191)  q =  -7.078339455625175\n",
      "episode  12 : loss =  (0.0, 3.5678232027421797)  q =  -7.078279160996181\n",
      "episode  13 : loss =  (0.0, 3.5678061115066693)  q =  -7.078211350043437\n",
      "episode  14 : loss =  (0.0, 3.5677782689538255)  q =  -7.078254484168345\n",
      "episode  15 : loss =  (0.0, 3.567804342890092)  q =  -7.0782090576961005\n",
      "episode  16 : loss =  (0.0, 3.5678200787466166)  q =  -7.078305170810281\n",
      "episode  17 : loss =  (0.0, 3.567805910663202)  q =  -7.078260580769512\n",
      "episode  18 : loss =  (0.0, 3.56782737127613)  q =  -7.078374975661959\n",
      "episode  19 : loss =  (0.0, 3.5677992408069015)  q =  -7.078273209566737\n"
     ]
    }
   ],
   "source": [
    "num_episodes = 20\n",
    "history_loss = train_wo_launcher(memory, BATCH_SIZE, optimizer_actor, num_episodes)"
   ]
  },
  {
   "cell_type": "code",
   "execution_count": 27,
   "metadata": {},
   "outputs": [
    {
     "name": "stdout",
     "output_type": "stream",
     "text": [
      "episode  0 reward =  [-0.058679245]  discounted_reward =  [-1.078493309020996]  successes =  0\n",
      "episode  1 reward =  [-0.057679843]  discounted_reward =  [-1.0616628646850585]  successes =  0\n",
      "episode  2 reward =  [-0.0586025]  discounted_reward =  [-1.0784005165100097]  successes =  0\n",
      "episode  3 reward =  [-0.058868907]  discounted_reward =  [-1.0815840721130372]  successes =  0\n",
      "episode  4 reward =  [-0.058506962]  discounted_reward =  [-1.0790430068969727]  successes =  0\n",
      "episode  5 reward =  [-0.058321368]  discounted_reward =  [-1.076605224609375]  successes =  0\n",
      "episode  6 reward =  [-0.058939554]  discounted_reward =  [-1.0830731391906738]  successes =  0\n",
      "episode  7 reward =  [-0.05835056]  discounted_reward =  [-1.0771409034729005]  successes =  0\n",
      "episode  8 reward =  [-0.057979617]  discounted_reward =  [-1.0690547943115234]  successes =  0\n",
      "episode  9 reward =  [-0.05855192]  discounted_reward =  [-1.0789234161376953]  successes =  0\n",
      "0.0\n"
     ]
    }
   ],
   "source": [
    "num_episodes = 10\n",
    "Artificial_environment_base = Artificial_environment_base_t(actor, env)\n",
    "Launcher = Launcher_t(Artificial_environment_base, GAMMA = GAMMA, BATCH_SIZE = BATCH_SIZE)\n",
    "history_rewards, success = test(Launcher, num_episodes, True, True)\n",
    "print(success)"
   ]
  },
  {
   "cell_type": "code",
   "execution_count": 28,
   "metadata": {},
   "outputs": [
    {
     "data": {
      "text/plain": [
       "[<matplotlib.lines.Line2D at 0x7f37138a0160>]"
      ]
     },
     "execution_count": 28,
     "metadata": {},
     "output_type": "execute_result"
    },
    {
     "data": {
      "image/png": "[encoded data removed]",
      "text/plain": [
       "<Figure size 432x288 with 1 Axes>"
      ]
     },
     "metadata": {
      "needs_background": "light"
     },
     "output_type": "display_data"
    }
   ],
   "source": [
    "plt.plot(history_rewards)"
   ]
  },
  {
   "cell_type": "code",
   "execution_count": 29,
   "metadata": {},
   "outputs": [],
   "source": [
    "optimizer = Optimizer_AC(actor, critic, q_optimizer, policy_optimizer, memory, loss_fn, q_scheduler)"
   ]
  },
  {
   "cell_type": "code",
   "execution_count": 30,
   "metadata": {},
   "outputs": [
    {
     "name": "stdout",
     "output_type": "stream",
     "text": [
      "episode  0 : loss =  (13.393158800553412, 3.8912408624189325)  q =  -7.634443850587427\n",
      "episode  1 : loss =  (13.392241938150633, 3.8913919777586017)  q =  -7.635009599114655\n",
      "episode  2 : loss =  (13.392294830261898, 3.8914193252625022)  q =  -7.634977844746794\n",
      "episode  3 : loss =  (13.392201068054462, 3.8914638657966)  q =  -7.634890255256258\n",
      "episode  4 : loss =  (13.392056020483599, 3.8914147460065602)  q =  -7.634856909021861\n",
      "episode  5 : loss =  (13.392142618405762, 3.8914631729689977)  q =  -7.634976355188721\n",
      "episode  6 : loss =  (13.392193751449266, 3.891451753324953)  q =  -7.635021885112094\n",
      "episode  7 : loss =  (13.392353649283988, 3.8914320920831407)  q =  -7.635075723014131\n",
      "episode  8 : loss =  (13.392151162482252, 3.8914366750948113)  q =  -7.635022083245055\n",
      "episode  9 : loss =  (13.392169982544777, 3.8914608536405724)  q =  -7.634984199112141\n",
      "episode  10 : loss =  (13.392455537033255, 3.891372559736348)  q =  -7.6350996316781385\n",
      "episode  11 : loss =  (13.392466964507664, 3.8914712429365506)  q =  -7.634935990753208\n",
      "episode  12 : loss =  (13.391943417468502, 3.891471726541127)  q =  -7.634942035987555\n",
      "episode  13 : loss =  (13.392476983863357, 3.891433180485735)  q =  -7.635001959834734\n",
      "episode  14 : loss =  (13.392052568923763, 3.8914155696826844)  q =  -7.63491596268906\n",
      "episode  15 : loss =  (13.392141245222499, 3.8914220750482453)  q =  -7.634964563407592\n",
      "episode  16 : loss =  (13.392186824732244, 3.8914711091294873)  q =  -7.635052825795504\n",
      "episode  17 : loss =  (13.392157682215277, 3.8914174670750654)  q =  -7.635070651065437\n",
      "episode  18 : loss =  (13.39201895962819, 3.891437042732079)  q =  -7.63501873411773\n",
      "episode  19 : loss =  (13.392434473855468, 3.8914475373127715)  q =  -7.6351130059718875\n"
     ]
    }
   ],
   "source": [
    "num_episodes = 20\n",
    "history_loss = train_wo_launcher(memory, BATCH_SIZE, optimizer, num_episodes)"
   ]
  },
  {
   "cell_type": "code",
   "execution_count": 29,
   "metadata": {},
   "outputs": [
    {
     "name": "stdout",
     "output_type": "stream",
     "text": [
      "episode  0 reward =  [-5.664634e-05]  discounted_reward =  [-0.0005953777115792036]  successes =  0\n",
      "episode  1 reward =  [-0.005013072]  discounted_reward =  [-0.029440370202064515]  successes =  0\n",
      "episode  2 reward =  [-3.2341237e-07]  discounted_reward =  [-6.072853648220189e-06]  successes =  0\n",
      "episode  3 reward =  [-0.00013740928]  discounted_reward =  [-0.0007915842346847057]  successes =  0\n",
      "episode  4 reward =  [-0.062709376]  discounted_reward =  [-1.4189083099365234]  successes =  0\n",
      "episode  5 reward =  [-2.4150327e-07]  discounted_reward =  [-4.475811510928906e-06]  successes =  0\n",
      "episode  6 reward =  [-2.2306085e-07]  discounted_reward =  [-4.108088614884764e-06]  successes =  0\n",
      "episode  7 reward =  [-0.00017822105]  discounted_reward =  [-0.000896761566400528]  successes =  0\n",
      "episode  8 reward =  [-0.0025821347]  discounted_reward =  [-0.01068783923983574]  successes =  0\n",
      "episode  9 reward =  [-0.080436155]  discounted_reward =  [-1.6631385803222656]  successes =  0\n",
      "0.0\n"
     ]
    }
   ],
   "source": [
    "num_episodes = 10\n",
    "Artificial_environment_base = Artificial_environment_base_t(actor, env)\n",
    "Launcher = Launcher_t(Artificial_environment_base, GAMMA = GAMMA, BATCH_SIZE = BATCH_SIZE)\n",
    "history_rewards, success = test(Launcher, num_episodes, False, True)\n",
    "print(success)"
   ]
  },
  {
   "cell_type": "code",
   "execution_count": 31,
   "metadata": {},
   "outputs": [
    {
     "data": {
      "text/plain": [
       "[<matplotlib.lines.Line2D at 0x7f370479b438>]"
      ]
     },
     "execution_count": 31,
     "metadata": {},
     "output_type": "execute_result"
    },
    {
     "data": {
      "image/png": "[encoded data removed]",
      "text/plain": [
       "<Figure size 432x288 with 1 Axes>"
      ]
     },
     "metadata": {
      "needs_background": "light"
     },
     "output_type": "display_data"
    }
   ],
   "source": [
    "plt.plot(history_rewards)"
   ]
  },
  {
   "cell_type": "code",
   "execution_count": null,
   "metadata": {},
   "outputs": [],
   "source": []
  }
 ],
 "metadata": {
  "kernelspec": {
   "display_name": "Python 3",
   "language": "python",
   "name": "python3"
  },
  "language_info": {
   "codemirror_mode": {
    "name": "ipython",
    "version": 3
   },
   "file_extension": ".py",
   "mimetype": "text/x-python",
   "name": "python",
   "nbconvert_exporter": "python",
   "pygments_lexer": "ipython3",
   "version": "3.7.1"
  }
 },
 "nbformat": 4,
 "nbformat_minor": 2
}
