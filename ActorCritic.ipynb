{
 "cells": [
  {
   "cell_type": "code",
   "execution_count": 1,
   "metadata": {},
   "outputs": [],
   "source": [
    "import torch\n",
    "import torch.nn as nn\n",
    "import torch.optim as optim\n",
    "import numpy as np\n",
    "import ipympl\n",
    "import glob, os\n",
    "import gym\n",
    "import math\n",
    "import random\n",
    "from itertools import count"
   ]
  },
  {
   "cell_type": "code",
   "execution_count": 2,
   "metadata": {},
   "outputs": [],
   "source": [
    "from model import Actor, Critic, OrnsteinUhlenbeckActionNoise\n",
    "from memory import Transition, ReplayMemory\n",
    "from train import optimize_model_AC"
   ]
  },
  {
   "cell_type": "code",
   "execution_count": 3,
   "metadata": {},
   "outputs": [
    {
     "name": "stdout",
     "output_type": "stream",
     "text": [
      "Box(1,) [1.] [-1.]\n",
      "2 [0.6  0.07] [-1.2  -0.07]\n"
     ]
    }
   ],
   "source": [
    "env = gym.make('MountainCarContinuous-v0')\n",
    "print(env.action_space, env.action_space.high, env.action_space.low)\n",
    "print(env.observation_space.shape[0], env.observation_space.high, env.observation_space.low)"
   ]
  },
  {
   "cell_type": "code",
   "execution_count": 4,
   "metadata": {},
   "outputs": [
    {
     "name": "stdout",
     "output_type": "stream",
     "text": [
      "[0.02876802]\n"
     ]
    }
   ],
   "source": [
    "BATCH_SIZE = 32\n",
    "GAMMA = 0.999\n",
    "LRA=0.0001      #LEARNING RATE ACTOR\n",
    "LRC=0.001       #LEARNING RATE CRITIC\n",
    "epsilon = 1\n",
    "epsilon_decay = 1./1000000\n",
    "noise = OrnsteinUhlenbeckActionNoise(mu=np.zeros(1))\n",
    "print(noise())\n",
    "actor = Actor(env.observation_space.shape[0], 1)\n",
    "critic = Critic(env.observation_space.shape[0], 1)\n",
    "\n",
    "q_optimizer = optim.Adam(critic.parameters(), lr=LRA)\n",
    "policy_optimizer= optim.Adam(actor.parameters(), lr=LRC)\n",
    "\n",
    "memory = ReplayMemory(10000)\n",
    "loss_fn = nn.MSELoss().type(torch.FloatTensor)"
   ]
  },
  {
   "cell_type": "code",
   "execution_count": null,
   "metadata": {},
   "outputs": [],
   "source": [
    "num_episodes = 100\n",
    "step_counter = 0\n",
    "successes = 0\n",
    "for i_episode in range(num_episodes):\n",
    "    # Initialize the environment and state\n",
    "    state = torch.from_numpy(env.reset()).type(torch.FloatTensor)\n",
    "    states = []\n",
    "    rewards = []\n",
    "    actions = []\n",
    "    counter = 0\n",
    "    \n",
    "    for t in count():\n",
    "        action = torch.from_numpy(10*noise()).type(torch.FloatTensor)\n",
    "        next_state, reward, done, _ = env.step(action.detach().numpy())\n",
    "        reward = torch.tensor([-1.]).type(torch.FloatTensor)\n",
    "        \n",
    "        states.append(state)\n",
    "        rewards.append(reward)\n",
    "        actions.append(action.detach())\n",
    "        \n",
    "        if not done:\n",
    "            next_state = torch.from_numpy(next_state).type(torch.FloatTensor)\n",
    "            # Move to the next state\n",
    "            state = next_state\n",
    "        else:\n",
    "            #print(next_state)\n",
    "            if next_state[0] >= env.goal_position:\n",
    "                successes += 1\n",
    "                reward = torch.tensor([100.]).type(torch.FloatTensor)\n",
    "            next_state = None\n",
    "\n",
    "        counter += 1\n",
    "        step_counter += 1\n",
    "        # Perform one step of the optimization (on the target network)\n",
    "        optimize_model_AC(actor, critic, q_optimizer, policy_optimizer, \n",
    "                              memory, loss_fn, BATCH_SIZE)\n",
    "        if done:\n",
    "            discounted_rewards = []\n",
    "            discounted_rewards.append(0)\n",
    "            for i in range(len(rewards)):\n",
    "                discounted_rewards[0] += rewards[i]*(GAMMA**(i))\n",
    "            for i in range(1, len(rewards)):\n",
    "                discounted_rewards.append((discounted_rewards[i-1] - rewards[i-1])/GAMMA)\n",
    "            # Store the transitions in memory\n",
    "            for i in range(len(rewards)):\n",
    "                memory.push(states[i], actions[i], rewards[i])\n",
    "            break\n",
    "print(successes/num_episodes*100)\n",
    "print('Complete')\n",
    "env.close()"
   ]
  },
  {
   "cell_type": "code",
   "execution_count": null,
   "metadata": {},
   "outputs": [],
   "source": [
    "successes = 0\n",
    "for i_episode in range(100):\n",
    "    # Initialize the environment and state\n",
    "    state = torch.from_numpy(env.reset()).type(torch.FloatTensor)\n",
    "    for t in count():\n",
    "        # Select and perform an action\n",
    "        env.render()\n",
    "        action = actor(state)\n",
    "        next_state, reward, done, _ = env.step(action.detach().numpy())\n",
    "        reward = torch.tensor([reward]).type(torch.FloatTensor)\n",
    "        \n",
    "        next_state = torch.from_numpy(next_state).type(torch.FloatTensor)\n",
    "        state = next_state\n",
    "        \n",
    "        if done:\n",
    "            if state[0] >= env.goal_position:\n",
    "                successes += 1\n",
    "            break\n",
    "print(successes)\n",
    "print('Complete')\n",
    "env.close()"
   ]
  },
  {
   "cell_type": "code",
   "execution_count": null,
   "metadata": {},
   "outputs": [],
   "source": [
    "num_episodes = 100\n",
    "step_counter = 0\n",
    "successes = 0\n",
    "for i_episode in range(num_episodes):\n",
    "    # Initialize the environment and state\n",
    "    state = torch.from_numpy(env.reset()).type(torch.FloatTensor)\n",
    "    states = []\n",
    "    rewards = []\n",
    "    actions = []\n",
    "    counter = 0\n",
    "    \n",
    "    for t in count():\n",
    "        action = actor(state)\n",
    "        #epsilon -=  epsilon_decay\n",
    "        #action += torch.from_numpy(10*noise()*max(0, epsilon)).type(torch.FloatTensor)\n",
    "        next_state, reward, done, _ = env.step(action.detach().numpy())\n",
    "        reward = torch.tensor([reward]).type(torch.FloatTensor)\n",
    "        #env.render()\n",
    "        \n",
    "        states.append(state)\n",
    "        rewards.append(reward)\n",
    "        actions.append(action.detach())\n",
    "        \n",
    "        if not done:\n",
    "            next_state = torch.from_numpy(next_state).type(torch.FloatTensor)\n",
    "            # Move to the next state\n",
    "            state = next_state\n",
    "        else:\n",
    "            if next_state[0] >= env.goal_position:\n",
    "                successes += 1\n",
    "            next_state = None\n",
    "\n",
    "        counter += 1\n",
    "        step_counter += 1\n",
    "        # Perform one step of the optimization (on the target network)\n",
    "        optimize_model_AC(actor, critic, q_optimizer, policy_optimizer, \n",
    "                              memory, loss_fn, BATCH_SIZE)\n",
    "        if done:\n",
    "            discounted_rewards = []\n",
    "            discounted_rewards.append(0)\n",
    "            for i in range(len(rewards)):\n",
    "                discounted_rewards[0] += rewards[i]*(GAMMA**(i))\n",
    "            for i in range(1, len(rewards)):\n",
    "                discounted_rewards.append((discounted_rewards[i-1] - rewards[i-1])/GAMMA)\n",
    "            # Store the transitions in memory\n",
    "            for i in range(len(rewards)):\n",
    "                memory.push(states[i], actions[i], discounted_rewards[i])\n",
    "            break\n",
    "print(successes/num_episodes*100)\n",
    "print('Complete')\n",
    "env.close()"
   ]
  },
  {
   "cell_type": "code",
   "execution_count": null,
   "metadata": {},
   "outputs": [],
   "source": [
    "successes = 0\n",
    "for i_episode in range(100):\n",
    "    # Initialize the environment and state\n",
    "    state = torch.from_numpy(env.reset()).type(torch.FloatTensor)\n",
    "    for t in count():\n",
    "        # Select and perform an action\n",
    "        env.render()\n",
    "        action = actor(state)\n",
    "        next_state, reward, done, _ = env.step(action.detach().numpy())\n",
    "        reward = torch.tensor([reward]).type(torch.FloatTensor)\n",
    "        \n",
    "        next_state = torch.from_numpy(next_state).type(torch.FloatTensor)\n",
    "        state = next_state\n",
    "        \n",
    "        if done:\n",
    "            if state[0] >= env.goal_position:\n",
    "                successes += 1\n",
    "            break\n",
    "print(successes)\n",
    "print('Complete')\n",
    "env.close()"
   ]
  },
  {
   "cell_type": "code",
   "execution_count": null,
   "metadata": {},
   "outputs": [],
   "source": []
  }
 ],
 "metadata": {
  "kernelspec": {
   "display_name": "Python 3",
   "language": "python",
   "name": "python3"
  },
  "language_info": {
   "codemirror_mode": {
    "name": "ipython",
    "version": 3
   },
   "file_extension": ".py",
   "mimetype": "text/x-python",
   "name": "python",
   "nbconvert_exporter": "python",
   "pygments_lexer": "ipython3",
   "version": "3.7.1"
  }
 },
 "nbformat": 4,
 "nbformat_minor": 2
}
