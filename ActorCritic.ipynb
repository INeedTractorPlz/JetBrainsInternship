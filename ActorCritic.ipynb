{
 "cells": [
  {
   "cell_type": "code",
   "execution_count": 1,
   "metadata": {},
   "outputs": [],
   "source": [
    "import torch\n",
    "import torch.nn as nn\n",
    "import torch.optim as optim\n",
    "import numpy as np\n",
    "import ipympl\n",
    "import glob, os\n",
    "import gym\n",
    "import math\n",
    "import random\n",
    "from itertools import count\n",
    "import matplotlib.pyplot as plt\n",
    "from torch.optim.lr_scheduler import StepLR\n",
    "from collections import namedtuple"
   ]
  },
  {
   "cell_type": "code",
   "execution_count": 2,
   "metadata": {},
   "outputs": [],
   "source": [
    "from model import Actor, Critic, OrnsteinUhlenbeckActionNoise, NormalActionNoise, RandomActionNoise\n",
    "from memory import ReplayDataset\n",
    "from train import to_var, Optimizer_AC, Artificial_environment_noise_t, \\\n",
    "Artificial_environment_base_t, Artificial_environment_base_and_noise_t, Launcher_t, train, test"
   ]
  },
  {
   "cell_type": "code",
   "execution_count": 3,
   "metadata": {},
   "outputs": [
    {
     "name": "stdout",
     "output_type": "stream",
     "text": [
      "Box(1,) [1.] [-1.]\n",
      "2 [0.6  0.07] [-1.2  -0.07]\n"
     ]
    }
   ],
   "source": [
    "env = gym.make('MountainCarContinuous-v0')\n",
    "print(env.action_space, env.action_space.high, env.action_space.low)\n",
    "print(env.observation_space.shape[0], env.observation_space.high, env.observation_space.low)"
   ]
  },
  {
   "cell_type": "code",
   "execution_count": 4,
   "metadata": {},
   "outputs": [
    {
     "name": "stdout",
     "output_type": "stream",
     "text": [
      "[0.04855959]\n"
     ]
    }
   ],
   "source": [
    "BATCH_SIZE = 32\n",
    "GAMMA = 0.999\n",
    "LRA=0.0001      #LEARNING RATE ACTOR\n",
    "LRC=0.0001     #LEARNING RATE CRITIC\n",
    "epsilon = 1\n",
    "epsilon_decay = 1./1000000\n",
    "noise_power = 3\n",
    "noise = OrnsteinUhlenbeckActionNoise(mu=np.zeros(1))\n",
    "#noise = NormalActionNoise(np.zeros(1), 1)\n",
    "print(noise_power*noise())\n",
    "actor = Actor(env.observation_space.shape[0], 1)\n",
    "critic = Critic(env.observation_space.shape[0], 1)\n",
    "\n",
    "q_optimizer = optim.Adam(critic.parameters(), lr=LRC)\n",
    "policy_optimizer= optim.Adam(actor.parameters(), lr=LRA)\n",
    "#q_scheduler = StepLR(q_optimizer, step_size = 5, gamma = 0.1)\n",
    "\n",
    "Transition = namedtuple('Transition',\n",
    "                        ('state', 'action', 'reward'))\n",
    "memory = ReplayDataset(10000, Transition)\n",
    "loss_fn = nn.MSELoss().type(torch.FloatTensor)\n",
    "\n",
    "optimizer = Optimizer_AC(actor, critic, q_optimizer, policy_optimizer, memory, loss_fn)\n",
    "Artificial_environment_noise = Artificial_environment_noise_t(noise, env, noise_power)\n",
    "Artificial_environment_base = Artificial_environment_base_t(actor, env)\n",
    "Artificial_environment_base_and_noise = Artificial_environment_base_and_noise_t(actor, noise, env, \n",
    "                                        epsilon, epsilon_decay)"
   ]
  },
  {
   "cell_type": "code",
   "execution_count": 5,
   "metadata": {},
   "outputs": [
    {
     "name": "stdout",
     "output_type": "stream",
     "text": [
      "0.14\n"
     ]
    }
   ],
   "source": [
    "num_episodes = 100\n",
    "Launcher = Launcher_t(Artificial_environment_noise, None, GAMMA, BATCH_SIZE)\n",
    "history_rewards, success = test(Launcher, num_episodes)\n",
    "print(success)"
   ]
  },
  {
   "cell_type": "code",
   "execution_count": 6,
   "metadata": {},
   "outputs": [
    {
     "name": "stdout",
     "output_type": "stream",
     "text": [
      "0.0\n"
     ]
    }
   ],
   "source": [
    "num_episodes = 100\n",
    "Launcher = Launcher_t(Artificial_environment_base_and_noise, None, GAMMA, BATCH_SIZE)\n",
    "history_rewards, success = test(Launcher, num_episodes)\n",
    "print(success)"
   ]
  },
  {
   "cell_type": "code",
   "execution_count": 22,
   "metadata": {},
   "outputs": [
    {
     "data": {
      "text/plain": [
       "array([1, 2, 3])"
      ]
     },
     "execution_count": 22,
     "metadata": {},
     "output_type": "execute_result"
    }
   ],
   "source": [
    "a = np.array([1, 2, 3])\n",
    "a[-3:None]"
   ]
  },
  {
   "cell_type": "code",
   "execution_count": 7,
   "metadata": {},
   "outputs": [
    {
     "name": "stdout",
     "output_type": "stream",
     "text": [
      "episode  0 : loss =  (4.246313849704082, 0.12418513827626439)  reward =  [-0.20000002]  discounted_reward =  [-3.680683898925781]  successes =  0  q =  -0.4906119282116381\n",
      "episode  1 : loss =  (2.5937757415893374, 0.4553112008066349)  reward =  [-0.20000002]  discounted_reward =  [-3.680683898925781]  successes =  0  q =  -1.7406625751489269\n",
      "episode  2 : loss =  (1.6086143053377773, 0.6251061692659335)  reward =  [-0.20000002]  discounted_reward =  [-3.680683898925781]  successes =  0  q =  -2.6894024690500085\n",
      "episode  3 : loss =  (1.5634968072588575, 0.5828634557632589)  reward =  [-0.09518832]  discounted_reward =  [-0.33855879306793213]  successes =  1  q =  -3.189875000201094\n",
      "episode  4 : loss =  (1.4857759013597445, 0.3854469605528125)  reward =  [-0.20000002]  discounted_reward =  [-3.680683898925781]  successes =  1  q =  -3.2715711578393516\n",
      "episode  5 : loss =  (1.5215032415522052, 0.17140540072775742)  reward =  [-0.20000002]  discounted_reward =  [-3.680683898925781]  successes =  1  q =  -3.2869566644723425\n",
      "episode  6 : loss =  (1.8905474212857725, -0.11541887260556885)  reward =  [-0.06710878]  discounted_reward =  [0.5377482891082763]  successes =  2  q =  -3.082333468019772\n",
      "episode  7 : loss =  (2.142174145918938, -0.46323131727842165)  reward =  [-0.07942242]  discounted_reward =  [0.19076855182647706]  successes =  3  q =  -2.742860831391697\n",
      "episode  8 : loss =  (2.3262973321766403, -0.8322051091950791)  reward =  [-0.07810222]  discounted_reward =  [0.23047571182250975]  successes =  4  q =  -2.436879058234608\n",
      "episode  9 : loss =  (2.393985223719358, -0.9725554367731678)  reward =  [-0.20000002]  discounted_reward =  [-3.680683898925781]  successes =  4  q =  -2.2917963338736147\n",
      "episode  10 : loss =  (2.4018128862777077, -0.8350994533624134)  reward =  [-0.20000002]  discounted_reward =  [-3.680683898925781]  successes =  4  q =  -2.3165610354548445\n",
      "episode  11 : loss =  (2.3572698170130764, -0.707652222742034)  reward =  [-0.20000002]  discounted_reward =  [-3.680683898925781]  successes =  4  q =  -2.3273282127258494\n",
      "episode  12 : loss =  (2.3891497938015966, -0.44168968198779335)  reward =  [-0.20000002]  discounted_reward =  [-3.680683898925781]  successes =  4  q =  -2.292911050418695\n",
      "episode  13 : loss =  (2.4753430963705156, -0.0034927119728063697)  reward =  [-0.20000002]  discounted_reward =  [-3.680683898925781]  successes =  4  q =  -2.3933019181029103\n",
      "episode  14 : loss =  (2.686107379559892, 0.37284138160772595)  reward =  [0.058247387]  discounted_reward =  [2.437599754333496]  successes =  5  q =  -2.329248143461185\n",
      "episode  15 : loss =  (2.6327987443397856, 0.6142610705063867)  reward =  [-0.047720384]  discounted_reward =  [0.9943324089050293]  successes =  6  q =  -2.1879449381995886\n",
      "episode  16 : loss =  (2.7620863876403687, 0.6556864811843447)  reward =  [-0.063301526]  discounted_reward =  [0.6352972507476806]  successes =  7  q =  -1.9135521056172184\n",
      "episode  17 : loss =  (2.8405970018892615, 0.6939999400871123)  reward =  [-0.20000002]  discounted_reward =  [-3.680683898925781]  successes =  7  q =  -1.891715968759677\n",
      "episode  18 : loss =  (2.7157043984141978, 0.875888163035416)  reward =  [-0.20000002]  discounted_reward =  [-3.680683898925781]  successes =  7  q =  -2.138403345220767\n",
      "episode  19 : loss =  (2.468518755814265, 1.1121861020597017)  reward =  [-0.20000002]  discounted_reward =  [-3.680683898925781]  successes =  7  q =  -2.5254713673942004\n",
      "episode  20 : loss =  (2.210966997380203, 1.039384279007349)  reward =  [-0.20000002]  discounted_reward =  [-3.680683898925781]  successes =  7  q =  -2.7391572524183476\n",
      "episode  21 : loss =  (2.2114811324463877, 0.7383611820503289)  reward =  [-0.20000002]  discounted_reward =  [-3.680683898925781]  successes =  7  q =  -2.7706190282925247\n",
      "episode  22 : loss =  (2.217335371925428, 0.565156276741475)  reward =  [-0.20000002]  discounted_reward =  [-3.680683898925781]  successes =  7  q =  -2.7656954165083913\n",
      "episode  23 : loss =  (2.1822929679395298, 0.2725963954049081)  reward =  [-0.20000002]  discounted_reward =  [-3.680683898925781]  successes =  7  q =  -2.7726770605142126\n",
      "episode  24 : loss =  (2.1754673560714317, -0.31210357729341587)  reward =  [-0.20000002]  discounted_reward =  [-3.680683898925781]  successes =  7  q =  -2.7611080084365014\n",
      "episode  25 : loss =  (2.0984678903199865, -1.180730430335917)  reward =  [-0.070038944]  discounted_reward =  [0.45971097946166994]  successes =  8  q =  -2.750991299510383\n",
      "episode  26 : loss =  (1.7854264257307122, -1.6972872908757777)  reward =  [-0.20000002]  discounted_reward =  [-3.680683898925781]  successes =  8  q =  -3.0676431099827677\n",
      "episode  27 : loss =  (1.5241516558126136, -1.1858281995287856)  reward =  [-0.20000002]  discounted_reward =  [-3.680683898925781]  successes =  8  q =  -3.249508361846875\n",
      "episode  28 : loss =  (1.4762383027833361, -0.6672894436711325)  reward =  [-0.20000002]  discounted_reward =  [-3.680683898925781]  successes =  8  q =  -3.2932946285881552\n",
      "episode  29 : loss =  (1.4540534044860915, -0.6618527196847591)  reward =  [-0.20000002]  discounted_reward =  [-3.680683898925781]  successes =  8  q =  -3.2773756424839884\n",
      "episode  30 : loss =  (1.4490953484536233, -0.43274687032222225)  reward =  [-0.20000002]  discounted_reward =  [-3.680683898925781]  successes =  8  q =  -3.2874314807855285\n",
      "episode  31 : loss =  (1.44785527324778, 0.003157457286200418)  reward =  [-0.20000002]  discounted_reward =  [-3.680683898925781]  successes =  8  q =  -3.2775860708742477\n",
      "episode  32 : loss =  (1.4449320220337896, 0.17118221938737047)  reward =  [-0.20000002]  discounted_reward =  [-3.680683898925781]  successes =  8  q =  -3.285168991302149\n",
      "episode  33 : loss =  (1.442200715803364, -0.2177524166062665)  reward =  [-0.20000002]  discounted_reward =  [-3.680683898925781]  successes =  8  q =  -3.3011933340432162\n",
      "episode  34 : loss =  (1.4390539536460907, -0.9504966678710789)  reward =  [-0.20000002]  discounted_reward =  [-3.680683898925781]  successes =  8  q =  -3.301936144265123\n",
      "episode  35 : loss =  (1.090195941214109, -1.1233085043514115)  reward =  [-0.20000002]  discounted_reward =  [-3.680683898925781]  successes =  8  q =  -3.593939584665024\n",
      "episode  36 : loss =  (1.0686083516627707, -0.4268924512675267)  reward =  [-0.20000002]  discounted_reward =  [-3.680683898925781]  successes =  8  q =  -3.6828423429982733\n",
      "episode  37 : loss =  (1.0733507992233586, -0.9404273290857593)  reward =  [-0.20000002]  discounted_reward =  [-3.680683898925781]  successes =  8  q =  -3.6769628547631896\n",
      "episode  38 : loss =  (1.0854786370382012, -1.4834371796304295)  reward =  [-0.20000002]  discounted_reward =  [-3.680683898925781]  successes =  8  q =  -3.6947799962930405\n",
      "episode  39 : loss =  (1.0839590331870779, -1.9588937810180795)  reward =  [-0.20000002]  discounted_reward =  [-3.680683898925781]  successes =  8  q =  -3.681352340375273\n",
      "episode  40 : loss =  (1.09091994924921, -2.261008070172847)  reward =  [-0.20000002]  discounted_reward =  [-3.680683898925781]  successes =  8  q =  -3.675416574691431\n",
      "episode  41 : loss =  (1.0787316791800519, -2.453295966179863)  reward =  [-0.20000002]  discounted_reward =  [-3.680683898925781]  successes =  8  q =  -3.6796496173444266\n",
      "episode  42 : loss =  (1.0794487858986574, -1.6747058256746488)  reward =  [-0.20000002]  discounted_reward =  [-3.680683898925781]  successes =  8  q =  -3.677567440861711\n",
      "episode  43 : loss =  (1.080258406643162, -0.2115116958804945)  reward =  [-0.20000002]  discounted_reward =  [-3.680683898925781]  successes =  8  q =  -3.6769055238547037\n",
      "episode  44 : loss =  (1.0770728063786494, 1.4630093662121801)  reward =  [-0.20000002]  discounted_reward =  [-3.680683898925781]  successes =  8  q =  -3.668157073255545\n",
      "episode  45 : loss =  (1.069295271897849, 3.0628038067152445)  reward =  [-0.20000002]  discounted_reward =  [-3.680683898925781]  successes =  8  q =  -3.677733355817703\n",
      "episode  46 : loss =  (1.0617326795102697, 4.023888790061553)  reward =  [-0.20000002]  discounted_reward =  [-3.680683898925781]  successes =  8  q =  -3.6749681771372833\n",
      "episode  47 : loss =  (1.045047470175039, 4.653871196019638)  reward =  [-0.20000002]  discounted_reward =  [-3.680683898925781]  successes =  8  q =  -3.6899760439753915\n",
      "episode  48 : loss =  (1.052558821357223, 5.218015273665971)  reward =  [-0.20000002]  discounted_reward =  [-3.680683898925781]  successes =  8  q =  -3.655650485437899\n",
      "episode  49 : loss =  (1.059116366318366, 6.03571451205415)  reward =  [-0.20000002]  discounted_reward =  [-3.680683898925781]  successes =  8  q =  -3.6809135305995757\n",
      "episode  50 : loss =  (1.4708960801521689, 5.7726431654665)  reward =  [0.07377046]  discounted_reward =  [2.5665609359741213]  successes =  9  q =  -3.4554150911946646\n",
      "episode  51 : loss =  (1.4687232333885087, 5.325564288991455)  reward =  [-0.20000002]  discounted_reward =  [-3.680683898925781]  successes =  9  q =  -3.3850221687231583\n",
      "episode  52 : loss =  (1.479395200015383, 5.515934191572779)  reward =  [-0.20000002]  discounted_reward =  [-3.680683898925781]  successes =  9  q =  -3.3773555443309746\n",
      "episode  53 : loss =  (1.473618138458528, 5.673807430572023)  reward =  [-0.20000002]  discounted_reward =  [-3.680683898925781]  successes =  9  q =  -3.3914931414607232\n",
      "episode  54 : loss =  (1.870069020853256, 5.4365282068872105)  reward =  [0.08225349]  discounted_reward =  [2.6317325592041017]  successes =  10  q =  -3.214722627268051\n",
      "episode  55 : loss =  (2.128477890778401, 4.66570031528656)  reward =  [0.114106566]  discounted_reward =  [2.8482938766479493]  successes =  11  q =  -3.039227282277311\n",
      "episode  56 : loss =  (2.3847968370134973, 3.570521606550938)  reward =  [0.031408753]  discounted_reward =  [2.1794429779052735]  successes =  12  q =  -2.773943646647298\n",
      "episode  57 : loss =  (2.3906042547906416, 3.367665554895693)  reward =  [-0.20000002]  discounted_reward =  [-3.680683898925781]  successes =  12  q =  -2.68313299962126\n",
      "episode  58 : loss =  (2.620886449234937, 3.553712528988449)  reward =  [-0.048411526]  discounted_reward =  [0.9796441078186036]  successes =  13  q =  -2.4649999111224288\n",
      "episode  59 : loss =  (2.620249339185964, 3.7928617861324234)  reward =  [-0.20000002]  discounted_reward =  [-3.680683898925781]  successes =  13  q =  -2.440439229575209\n",
      "episode  60 : loss =  (2.7175091320968168, 3.838406908118557)  reward =  [-0.083758734]  discounted_reward =  [0.05567505359649658]  successes =  14  q =  -2.195863337943348\n",
      "episode  61 : loss =  (2.7298536272729423, 3.785345444156211)  reward =  [-0.20000002]  discounted_reward =  [-3.680683898925781]  successes =  14  q =  -2.102972221831544\n",
      "episode  62 : loss =  (2.789354639693188, 3.568818742347855)  reward =  [-0.20000002]  discounted_reward =  [-3.680683898925781]  successes =  14  q =  -2.1198823577679766\n",
      "episode  63 : loss =  (2.673232629022403, 3.0544877732777644)  reward =  [-0.048411526]  discounted_reward =  [0.9796441078186036]  successes =  15  q =  -2.0192696735881768\n",
      "episode  64 : loss =  (2.6991043649415496, 2.6246991639954844)  reward =  [-0.20000002]  discounted_reward =  [-3.680683898925781]  successes =  15  q =  -2.0182149867280224\n",
      "episode  65 : loss =  (2.793434259355768, 2.302965640513915)  reward =  [-0.09013161]  discounted_reward =  [-0.15685007572174073]  successes =  16  q =  -1.774972288753278\n",
      "episode  66 : loss =  (2.7411199078138395, 2.2415187772724456)  reward =  [-0.20000002]  discounted_reward =  [-3.680683898925781]  successes =  16  q =  -1.802426944525478\n",
      "episode  67 : loss =  (2.237263898372141, 2.558880886203819)  reward =  [-0.20000002]  discounted_reward =  [-3.680683898925781]  successes =  16  q =  -2.235175164362874\n",
      "episode  68 : loss =  (2.3044365884396956, 2.3695737094290084)  reward =  [-0.20000002]  discounted_reward =  [-3.680683898925781]  successes =  16  q =  -2.4103426182993686\n",
      "episode  69 : loss =  (2.0279692486325267, 1.9246253591502953)  reward =  [-0.20000002]  discounted_reward =  [-3.680683898925781]  successes =  16  q =  -2.6241671749578117\n",
      "episode  70 : loss =  (2.069782657237354, 1.6632815600711077)  reward =  [-0.20000002]  discounted_reward =  [-3.680683898925781]  successes =  16  q =  -2.7849639437069147\n",
      "episode  71 : loss =  (1.8484218887373798, 1.5120286393089417)  reward =  [-0.20000002]  discounted_reward =  [-3.680683898925781]  successes =  16  q =  -2.949675956854043\n",
      "episode  72 : loss =  (1.8183057117766845, 1.2483190035286804)  reward =  [-0.20000002]  discounted_reward =  [-3.680683898925781]  successes =  16  q =  -2.9707229145037863\n",
      "episode  73 : loss =  (1.5867912172636403, 1.1396771089210553)  reward =  [-0.20000002]  discounted_reward =  [-3.680683898925781]  successes =  16  q =  -3.223002332468002\n",
      "episode  74 : loss =  (1.5067713138775327, 1.1185873550094099)  reward =  [-0.20000002]  discounted_reward =  [-3.680683898925781]  successes =  16  q =  -3.3222874163057856\n",
      "episode  75 : loss =  (1.108022948550467, 1.2697830370312944)  reward =  [-0.20000002]  discounted_reward =  [-3.680683898925781]  successes =  16  q =  -3.578859742837973\n",
      "episode  76 : loss =  (1.5313702564016067, 1.271565768157585)  reward =  [-0.08127966]  discounted_reward =  [0.1338003993034363]  successes =  17  q =  -3.384956378144578\n",
      "episode  77 : loss =  (1.5251869181601503, 1.21785606210605)  reward =  [-0.20000002]  discounted_reward =  [-3.680683898925781]  successes =  17  q =  -3.295862823248671\n",
      "episode  78 : loss =  (1.5143640130218734, 1.2515729423275133)  reward =  [-0.20000002]  discounted_reward =  [-3.680683898925781]  successes =  17  q =  -3.3094221532535246\n",
      "episode  79 : loss =  (1.4988827342296422, 1.3031201184875032)  reward =  [-0.20000002]  discounted_reward =  [-3.680683898925781]  successes =  17  q =  -3.2980986090894704\n",
      "episode  80 : loss =  (1.5111551758326407, 1.315034862270497)  reward =  [-0.20000002]  discounted_reward =  [-3.680683898925781]  successes =  17  q =  -3.326022509187936\n",
      "episode  81 : loss =  (1.4966292538708894, 1.2645490413275768)  reward =  [-0.20000002]  discounted_reward =  [-3.680683898925781]  successes =  17  q =  -3.313986129273241\n",
      "episode  82 : loss =  (1.488929184354023, 1.2348509416285667)  reward =  [-0.20000002]  discounted_reward =  [-3.680683898925781]  successes =  17  q =  -3.3031229165415414\n",
      "episode  83 : loss =  (1.4786086034216188, 1.1851383268642737)  reward =  [-0.20000002]  discounted_reward =  [-3.680683898925781]  successes =  17  q =  -3.3043307762938188\n",
      "episode  84 : loss =  (1.4478861930144342, 1.0859417643663856)  reward =  [-0.20000002]  discounted_reward =  [-3.680683898925781]  successes =  17  q =  -3.3070149604504864\n",
      "episode  85 : loss =  (1.4755897524511716, 0.9669169960692297)  reward =  [-0.20000002]  discounted_reward =  [-3.680683898925781]  successes =  17  q =  -3.2956100523281404\n",
      "episode  86 : loss =  (1.0486171927314982, 0.9616609018323768)  reward =  [-0.20000002]  discounted_reward =  [-3.680683898925781]  successes =  17  q =  -3.6061101462513494\n",
      "episode  87 : loss =  (1.0602116382921851, 0.8795958134059075)  reward =  [-0.20000002]  discounted_reward =  [-3.680683898925781]  successes =  17  q =  -3.667099548985783\n",
      "episode  88 : loss =  (1.0706653183641528, 0.792419066952186)  reward =  [-0.20000002]  discounted_reward =  [-3.680683898925781]  successes =  17  q =  -3.6862123157269657\n",
      "episode  89 : loss =  (1.0799870983607223, 0.7427417608622673)  reward =  [-0.20000002]  discounted_reward =  [-3.680683898925781]  successes =  17  q =  -3.693837810248232\n",
      "episode  90 : loss =  (1.0700784371937684, 0.7142256740817882)  reward =  [-0.20000002]  discounted_reward =  [-3.680683898925781]  successes =  17  q =  -3.686787096456217\n",
      "episode  91 : loss =  (1.0699686594029707, 0.6354004500138235)  reward =  [-0.20000002]  discounted_reward =  [-3.680683898925781]  successes =  17  q =  -3.6836550753718367\n",
      "episode  92 : loss =  (1.0669516487497361, 0.5341380438484705)  reward =  [-0.20000002]  discounted_reward =  [-3.680683898925781]  successes =  17  q =  -3.6678132157737076\n",
      "episode  93 : loss =  (1.0975116870908572, 0.42316092768162317)  reward =  [-0.20000002]  discounted_reward =  [-3.680683898925781]  successes =  17  q =  -3.681256061163954\n",
      "episode  94 : loss =  (1.1051048305722722, 0.3470002786039165)  reward =  [-0.20000002]  discounted_reward =  [-3.680683898925781]  successes =  17  q =  -3.6728628321577568\n",
      "episode  95 : loss =  (1.5106639752880586, 0.48193403650015687)  reward =  [-0.07985614]  discounted_reward =  [0.17758167982101442]  successes =  18  q =  -3.386942628092659\n",
      "episode  96 : loss =  (1.7907073022966304, 1.0275517622121988)  reward =  [-0.015129181]  discounted_reward =  [1.5841445922851562]  successes =  19  q =  -3.073401143375677\n",
      "episode  97 : loss =  (2.0961657509890106, 1.5285797027734138)  reward =  [0.07302448]  discounted_reward =  [2.5606597900390624]  successes =  20  q =  -2.8494472640771837\n",
      "episode  98 : loss =  (2.2888571202945402, 1.8109627018848296)  reward =  [-0.054148506]  discounted_reward =  [0.8535002708435059]  successes =  21  q =  -2.5579681259374647\n",
      "episode  99 : loss =  (2.3195443465686827, 1.8508552453769285)  reward =  [-0.20000002]  discounted_reward =  [-3.680683898925781]  successes =  21  q =  -2.428912590867795\n"
     ]
    }
   ],
   "source": [
    "num_episodes = 100\n",
    "Launcher = Launcher_t(Artificial_environment_noise, memory, GAMMA, BATCH_SIZE)\n",
    "history_loss, history_rewards, success = train(Launcher, optimizer, num_episodes)"
   ]
  },
  {
   "cell_type": "code",
   "execution_count": 8,
   "metadata": {},
   "outputs": [
    {
     "data": {
      "text/plain": [
       "[<matplotlib.lines.Line2D at 0x7f1d156a56a0>,\n",
       " <matplotlib.lines.Line2D at 0x7f1d156a57f0>]"
      ]
     },
     "execution_count": 8,
     "metadata": {},
     "output_type": "execute_result"
    },
    {
     "data": {
      "image/png": "[encoded data removed]",
      "text/plain": [
       "<Figure size 432x288 with 1 Axes>"
      ]
     },
     "metadata": {
      "needs_background": "light"
     },
     "output_type": "display_data"
    }
   ],
   "source": [
    "plt.plot(history_loss)"
   ]
  },
  {
   "cell_type": "code",
   "execution_count": 9,
   "metadata": {},
   "outputs": [
    {
     "data": {
      "text/plain": [
       "[<matplotlib.lines.Line2D at 0x7f1d1463b940>]"
      ]
     },
     "execution_count": 9,
     "metadata": {},
     "output_type": "execute_result"
    },
    {
     "data": {
      "image/png": "[encoded data removed]",
      "text/plain": [
       "<Figure size 432x288 with 1 Axes>"
      ]
     },
     "metadata": {
      "needs_background": "light"
     },
     "output_type": "display_data"
    }
   ],
   "source": [
    "plt.plot(history_rewards)"
   ]
  },
  {
   "cell_type": "code",
   "execution_count": 10,
   "metadata": {},
   "outputs": [
    {
     "name": "stdout",
     "output_type": "stream",
     "text": [
      "0.21\n"
     ]
    }
   ],
   "source": [
    "print(success)"
   ]
  },
  {
   "cell_type": "code",
   "execution_count": 12,
   "metadata": {},
   "outputs": [
    {
     "name": "stdout",
     "output_type": "stream",
     "text": [
      "0.0\n"
     ]
    }
   ],
   "source": [
    "num_episodes = 100\n",
    "Launcher = Launcher_t(Artificial_environment_base, None, GAMMA, BATCH_SIZE)\n",
    "history_rewards, success = test(Launcher, num_episodes)\n",
    "print(success)"
   ]
  },
  {
   "cell_type": "code",
   "execution_count": 13,
   "metadata": {},
   "outputs": [
    {
     "name": "stdout",
     "output_type": "stream",
     "text": [
      "episode  0 : loss =  (4660200.511182111, 4.202667664922972)  reward =  [-180.33684]  discounted_reward =  [-3328.825]  successes =  0  q =  -13.49621871485116\n",
      "episode  1 : loss =  (4343995.634717785, 6.588139671106304)  reward =  [-104.460335]  discounted_reward =  [-1931.1451171875]  successes =  0  q =  -23.185759925232908\n",
      "episode  2 : loss =  (3837658.2523961677, 8.186848529738487)  reward =  [-42.12807]  discounted_reward =  [-783.9046875]  successes =  0  q =  -30.642590330812496\n",
      "episode  3 : loss =  (3363092.718317359, 9.478100883313274)  reward =  [-11.791528]  discounted_reward =  [-215.5924560546875]  successes =  0  q =  -37.079935518697425\n",
      "episode  4 : loss =  (2904142.077209796, 10.498312772399446)  reward =  [-0.17376348]  discounted_reward =  [-3.1990127563476562]  successes =  0  q =  -42.613912381303194\n",
      "episode  5 : loss =  (2459916.22630458, 11.01156133584702)  reward =  [-2.809096]  discounted_reward =  [-53.685491943359374]  successes =  0  q =  -46.48620144780071\n",
      "episode  6 : loss =  (2000386.8773961659, 11.27763045964023)  reward =  [-15.538811]  discounted_reward =  [-281.63291015625]  successes =  0  q =  -49.42916491084967\n",
      "episode  7 : loss =  (1577568.1654020231, 11.263691614738033)  reward =  [-38.364674]  discounted_reward =  [-702.814794921875]  successes =  0  q =  -51.26648530563988\n",
      "episode  8 : loss =  (1173632.9046192765, 11.025255219497119)  reward =  [-76.536446]  discounted_reward =  [-1417.41826171875]  successes =  0  q =  -51.91153184445902\n",
      "episode  9 : loss =  (939210.7408146969, 10.71598300588524)  reward =  [-129.9574]  discounted_reward =  [-2382.7154296875]  successes =  0  q =  -51.659200966929475\n",
      "episode  10 : loss =  (1064503.9207601172, 10.642119004449643)  reward =  [-202.28581]  discounted_reward =  [-3738.548828125]  successes =  0  q =  -51.10543619710416\n",
      "episode  11 : loss =  (1966951.0685569753, 11.25642530098002)  reward =  [-275.26727]  discounted_reward =  [-5074.219921875]  successes =  0  q =  -51.43560669140313\n",
      "episode  12 : loss =  (3808962.7561235335, 13.057978718425515)  reward =  [-367.88394]  discounted_reward =  [-6766.903125]  successes =  0  q =  -54.418818744988485\n",
      "episode  13 : loss =  (6969078.080937168, 16.11956933766)  reward =  [-477.96808]  discounted_reward =  [-8794.1734375]  successes =  0  q =  -60.48051223511132\n",
      "episode  14 : loss =  (11399179.543130996, 19.98041657924143)  reward =  [-567.094]  discounted_reward =  [-10457.86796875]  successes =  0  q =  -68.89921733137137\n",
      "episode  15 : loss =  (17332405.14909477, 24.852663805944346)  reward =  [-657.4867]  discounted_reward =  [-12087.60859375]  successes =  0  q =  -81.12229792683269\n",
      "episode  16 : loss =  (25629329.731629394, 30.12323354735288)  reward =  [-777.00885]  discounted_reward =  [-14280.125]  successes =  0  q =  -94.62624588256446\n",
      "episode  17 : loss =  (35967081.5761448, 35.73890859910601)  reward =  [-865.6152]  discounted_reward =  [-15947.6671875]  successes =  0  q =  -109.422285159175\n",
      "episode  18 : loss =  (47821240.87752929, 41.59726549337465)  reward =  [-932.4058]  discounted_reward =  [-17164.446875]  successes =  0  q =  -125.31140068468575\n",
      "episode  19 : loss =  (59303069.375931874, 47.42280165862225)  reward =  [-924.46173]  discounted_reward =  [-17018.934375]  successes =  0  q =  -141.68357551745333\n",
      "episode  20 : loss =  (69408852.68583597, 52.91439382209817)  reward =  [-881.20734]  discounted_reward =  [-16266.4046875]  successes =  0  q =  -157.82078834996818\n",
      "episode  21 : loss =  (77553633.0649627, 58.295695588230686)  reward =  [-824.2216]  discounted_reward =  [-15137.1671875]  successes =  0  q =  -174.5794321858464\n",
      "episode  22 : loss =  (81895916.54100105, 63.20884800465086)  reward =  [-679.0684]  discounted_reward =  [-12521.96640625]  successes =  0  q =  -190.90614201847356\n",
      "episode  23 : loss =  (82893338.9137381, 67.67216148823344)  reward =  [-555.27264]  discounted_reward =  [-10219.6703125]  successes =  0  q =  -206.6186938301062\n",
      "episode  24 : loss =  (80595775.42066029, 71.81607362789852)  reward =  [-406.804]  discounted_reward =  [-7480.21640625]  successes =  0  q =  -221.71554721430087\n",
      "episode  25 : loss =  (75763489.45686899, 75.68804447389387)  reward =  [-297.75446]  discounted_reward =  [-5486.3078125]  successes =  0  q =  -236.00257776034906\n",
      "episode  26 : loss =  (67943937.76357828, 79.11350624807596)  reward =  [-206.73167]  discounted_reward =  [-3802.670703125]  successes =  0  q =  -248.63910082734813\n",
      "episode  27 : loss =  (57826376.161874376, 81.70769984171159)  reward =  [-125.69066]  discounted_reward =  [-2306.941015625]  successes =  0  q =  -258.26135678032335\n",
      "episode  28 : loss =  (45974292.97124599, 84.33586429356258)  reward =  [-83.13706]  discounted_reward =  [-1534.62119140625]  successes =  0  q =  -267.3554714312569\n",
      "episode  29 : loss =  (34282124.9116081, 86.41073107897157)  reward =  [-44.504032]  discounted_reward =  [-813.486669921875]  successes =  0  q =  -274.22132439659043\n",
      "episode  30 : loss =  (23715880.558040466, 88.46355752670733)  reward =  [-22.442165]  discounted_reward =  [-415.500732421875]  successes =  0  q =  -280.5535923771965\n",
      "episode  31 : loss =  (14439131.435569758, 89.77203655141362)  reward =  [-6.845802]  discounted_reward =  [-123.37021484375]  successes =  0  q =  -284.17117767821486\n",
      "episode  32 : loss =  (8226458.902555911, 90.87176890672835)  reward =  [-0.49219915]  discounted_reward =  [-9.551704406738281]  successes =  0  q =  -287.007270301112\n",
      "episode  33 : loss =  (4096540.550585729, 94.4894176479091)  reward =  [-2.3316991]  discounted_reward =  [-44.396279907226564]  successes =  0  q =  -297.3728708870495\n",
      "episode  34 : loss =  (1931832.432374865, 97.64265986270924)  reward =  [-17.329296]  discounted_reward =  [-321.9538818359375]  successes =  0  q =  -306.576282440283\n",
      "episode  35 : loss =  (809122.8306376459, 100.36617063739682)  reward =  [-45.91281]  discounted_reward =  [-836.80029296875]  successes =  0  q =  -314.73047908502645\n",
      "episode  36 : loss =  (361065.7985223641, 102.74051329071405)  reward =  [-88.4612]  discounted_reward =  [-1628.22705078125]  successes =  0  q =  -322.08198630238496\n",
      "episode  37 : loss =  (425553.17425452615, 105.53659142117407)  reward =  [-147.19872]  discounted_reward =  [-2720.812109375]  successes =  0  q =  -331.11261834580296\n",
      "episode  38 : loss =  (1028844.6351837058, 108.65127439976249)  reward =  [-234.34729]  discounted_reward =  [-4334.091796875]  successes =  0  q =  -341.1509451089195\n",
      "episode  39 : loss =  (2464609.4860889222, 113.51032358642838)  reward =  [-338.05762]  discounted_reward =  [-6243.5171875]  successes =  0  q =  -356.59854047976364\n",
      "episode  40 : loss =  (5511560.072417465, 120.83978011483708)  reward =  [-485.00327]  discounted_reward =  [-8934.13828125]  successes =  0  q =  -379.1866261052628\n",
      "episode  41 : loss =  (10380756.257720977, 131.19890600169938)  reward =  [-609.54645]  discounted_reward =  [-11223.4125]  successes =  0  q =  -410.38547103930586\n",
      "episode  42 : loss =  (18577430.15761448, 144.0703134750024)  reward =  [-787.7742]  discounted_reward =  [-14482.575]  successes =  0  q =  -448.2328680361422\n",
      "episode  43 : loss =  (32358670.513312027, 155.51954772754226)  reward =  [-1014.77]  discounted_reward =  [-18763.475]  successes =  0  q =  -480.1250316875811\n",
      "episode  44 : loss =  (50122435.89776362, 167.5846958018213)  reward =  [-1149.053]  discounted_reward =  [-21195.3859375]  successes =  0  q =  -513.5522830463447\n",
      "episode  45 : loss =  (76198670.3216188, 180.43651368747504)  reward =  [-1394.7522]  discounted_reward =  [-25755.9765625]  successes =  0  q =  -549.249148822821\n",
      "episode  46 : loss =  (114476521.686901, 194.30506138095723)  reward =  [-1682.6235]  discounted_reward =  [-31181.209375]  successes =  0  q =  -588.0938584202776\n",
      "episode  47 : loss =  (153991293.68264106, 208.08397046496444)  reward =  [-1721.706]  discounted_reward =  [-31727.271875]  successes =  0  q =  -626.902206274648\n",
      "episode  48 : loss =  (192377169.66986156, 220.8054813470321)  reward =  [-1703.8027]  discounted_reward =  [-31363.26875]  successes =  0  q =  -663.0511997210713\n",
      "episode  49 : loss =  (245205309.30777407, 234.97076656516248)  reward =  [-2002.0845]  discounted_reward =  [-37051.728125]  successes =  0  q =  -704.1398904331195\n",
      "episode  50 : loss =  (290386266.0021299, 248.15588086405492)  reward =  [-1895.6011]  discounted_reward =  [-34844.7]  successes =  0  q =  -743.2476471239767\n",
      "episode  51 : loss =  (321105047.58253473, 260.6172057650468)  reward =  [-1635.4271]  discounted_reward =  [-30073.946875]  successes =  0  q =  -781.4089776669829\n",
      "episode  52 : loss =  (337041824.3067095, 271.856309007151)  reward =  [-1358.1409]  discounted_reward =  [-25031.5984375]  successes =  0  q =  -817.133779312475\n",
      "episode  53 : loss =  (338263439.8125663, 281.6176540061942)  reward =  [-1086.9397]  discounted_reward =  [-20024.7328125]  successes =  0  q =  -849.3548533284245\n",
      "episode  54 : loss =  (329823665.4824282, 291.1703232510275)  reward =  [-853.35803]  discounted_reward =  [-15725.7703125]  successes =  0  q =  -881.4845442604333\n",
      "episode  55 : loss =  (307986739.73162955, 298.9570523750543)  reward =  [-611.17334]  discounted_reward =  [-11249.5484375]  successes =  0  q =  -908.4411170642596\n",
      "episode  56 : loss =  (272080351.5228969, 306.31616873939186)  reward =  [-478.77478]  discounted_reward =  [-8761.8875]  successes =  0  q =  -933.815172676842\n",
      "episode  57 : loss =  (233129054.19382304, 312.861749196078)  reward =  [-298.87042]  discounted_reward =  [-5485.989453125]  successes =  0  q =  -956.2752677746855\n",
      "episode  58 : loss =  (194354982.74760374, 320.6810742785499)  reward =  [-200.18124]  discounted_reward =  [-3678.2046875]  successes =  0  q =  -982.0623024644943\n",
      "episode  59 : loss =  (140533732.0383387, 324.6972504799612)  reward =  [-100.796455]  discounted_reward =  [-1853.5255859375]  successes =  0  q =  -995.5897240196934\n",
      "episode  60 : loss =  (92464362.70074552, 327.52549391026434)  reward =  [-41.94153]  discounted_reward =  [-766.60703125]  successes =  0  q =  -1004.8538596058806\n",
      "episode  61 : loss =  (57032066.35995738, 332.0971621837353)  reward =  [-11.215477]  discounted_reward =  [-210.8286865234375]  successes =  0  q =  -1018.9743728393945\n",
      "episode  62 : loss =  (32795846.462193817, 327.29958641694134)  reward =  [-0.076973826]  discounted_reward =  [-1.742529296875]  successes =  0  q =  -1004.7211020960214\n",
      "episode  63 : loss =  (17602830.0772098, 319.34346445426917)  reward =  [-7.8896074]  discounted_reward =  [-147.7951904296875]  successes =  0  q =  -980.7199287780177\n",
      "episode  64 : loss =  (8468885.925452609, 311.6876250603202)  reward =  [-29.91232]  discounted_reward =  [-548.887353515625]  successes =  0  q =  -957.4564987036367\n",
      "episode  65 : loss =  (3974931.551717251, 303.0401212227105)  reward =  [-60.213783]  discounted_reward =  [-1113.26455078125]  successes =  0  q =  -931.1915760954348\n",
      "episode  66 : loss =  (1461918.6172124592, 293.24926770812556)  reward =  [-111.06923]  discounted_reward =  [-2046.47578125]  successes =  0  q =  -901.2454178782698\n",
      "episode  67 : loss =  (800749.564763045, 283.0178768657647)  reward =  [-161.80963]  discounted_reward =  [-2970.2134765625]  successes =  0  q =  -870.05088284526\n",
      "episode  68 : loss =  (1127966.5852635792, 272.5164407520882)  reward =  [-250.09021]  discounted_reward =  [-4593.9515625]  successes =  0  q =  -837.8032669213633\n",
      "episode  69 : loss =  (2452661.896565497, 263.5835927489973)  reward =  [-344.87427]  discounted_reward =  [-6359.499609375]  successes =  0  q =  -810.3115499575679\n",
      "episode  70 : loss =  (4787936.928115017, 255.17010537046966)  reward =  [-441.23724]  discounted_reward =  [-8131.2921875]  successes =  0  q =  -784.2701033814647\n",
      "episode  71 : loss =  (8518973.677582541, 245.71281086979573)  reward =  [-548.5278]  discounted_reward =  [-10138.06875]  successes =  0  q =  -754.5378821619784\n",
      "episode  72 : loss =  (15301423.824813638, 248.4305041620906)  reward =  [-732.0545]  discounted_reward =  [-13422.446875]  successes =  0  q =  -762.0709920767397\n",
      "episode  73 : loss =  (25429259.70181044, 255.78197683186082)  reward =  [-888.6511]  discounted_reward =  [-16349.040625]  successes =  0  q =  -783.3397542447709\n",
      "episode  74 : loss =  (40569379.654952094, 264.43327206417626)  reward =  [-1080.9257]  discounted_reward =  [-19820.43125]  successes =  0  q =  -807.7511953530601\n",
      "episode  75 : loss =  (62853739.25452606, 275.7871332950613)  reward =  [-1302.4536]  discounted_reward =  [-23962.9]  successes =  0  q =  -839.7747523883661\n",
      "episode  76 : loss =  (91240859.55271557, 286.9630319353619)  reward =  [-1469.0438]  discounted_reward =  [-27131.721875]  successes =  0  q =  -870.8826128194888\n",
      "episode  77 : loss =  (128718857.26943551, 300.0100444757139)  reward =  [-1685.0288]  discounted_reward =  [-31035.459375]  successes =  0  q =  -907.5697616235898\n",
      "episode  78 : loss =  (176004831.53993616, 312.5466238393571)  reward =  [-1895.3905]  discounted_reward =  [-34796.5625]  successes =  0  q =  -942.6922194020817\n",
      "episode  79 : loss =  (233167955.0159744, 325.7502749507041)  reward =  [-2100.4314]  discounted_reward =  [-38661.771875]  successes =  0  q =  -980.0236098804413\n",
      "episode  80 : loss =  (295747371.3823214, 339.540813214482)  reward =  [-2201.828]  discounted_reward =  [-40458.821875]  successes =  0  q =  -1019.4675585469499\n",
      "episode  81 : loss =  (351459364.021299, 352.6842123565834)  reward =  [-2119.0618]  discounted_reward =  [-38859.721875]  successes =  0  q =  -1057.513661734974\n",
      "episode  82 : loss =  (402885180.3194885, 363.7907259842586)  reward =  [-2089.607]  discounted_reward =  [-38299.675]  successes =  0  q =  -1090.25191802491\n",
      "episode  83 : loss =  (450778010.71778494, 376.53919523034)  reward =  [-2097.1113]  discounted_reward =  [-38629.35]  successes =  0  q =  -1128.9922553601737\n",
      "episode  84 : loss =  (473990461.4781683, 386.5264813277924)  reward =  [-1710.4407]  discounted_reward =  [-31409.503125]  successes =  0  q =  -1160.6679859100439\n",
      "episode  85 : loss =  (482048148.03833854, 397.39098003090896)  reward =  [-1541.8531]  discounted_reward =  [-28405.28125]  successes =  0  q =  -1195.9943250954723\n",
      "episode  86 : loss =  (471823236.7028753, 407.51509381863997)  reward =  [-1199.1649]  discounted_reward =  [-22004.625]  successes =  0  q =  -1229.6817595753046\n",
      "episode  87 : loss =  (443923561.576145, 416.1463760847228)  reward =  [-916.12976]  discounted_reward =  [-16911.68125]  successes =  0  q =  -1259.019733660518\n",
      "episode  88 : loss =  (402522417.48242825, 425.0104404567278)  reward =  [-721.63904]  discounted_reward =  [-13329.721875]  successes =  0  q =  -1288.8052576814596\n",
      "episode  89 : loss =  (346662112.44302434, 431.71568524215377)  reward =  [-516.11084]  discounted_reward =  [-9482.08671875]  successes =  0  q =  -1311.5738470790486\n",
      "episode  90 : loss =  (283631868.6943556, 438.7425833510131)  reward =  [-378.90692]  discounted_reward =  [-6984.609375]  successes =  0  q =  -1334.6189850146015\n",
      "episode  91 : loss =  (224528794.68370622, 446.6586681361904)  reward =  [-262.2349]  discounted_reward =  [-4842.647265625]  successes =  0  q =  -1359.7818814116165\n",
      "episode  92 : loss =  (166376956.5835997, 453.39561688277917)  reward =  [-166.74208]  discounted_reward =  [-3070.0388671875]  successes =  0  q =  -1380.7804075978434\n",
      "episode  93 : loss =  (108474849.72949949, 457.976407539603)  reward =  [-100.24873]  discounted_reward =  [-1843.187109375]  successes =  0  q =  -1394.6129801692293\n",
      "episode  94 : loss =  (70238361.43130992, 463.69911201972695)  reward =  [-51.666714]  discounted_reward =  [-953.3876953125]  successes =  0  q =  -1411.732692145692\n",
      "episode  95 : loss =  (39624686.29818955, 465.85321129422067)  reward =  [-19.118908]  discounted_reward =  [-355.3568115234375]  successes =  0  q =  -1417.8119356685554\n",
      "episode  96 : loss =  (21552971.19062833, 467.9104969808721)  reward =  [-2.9391072]  discounted_reward =  [-53.268212890625]  successes =  0  q =  -1423.6277534070487\n",
      "episode  97 : loss =  (11391418.362087317, 485.82721759767713)  reward =  [-6.3797126]  discounted_reward =  [-121.0692626953125]  successes =  0  q =  -1477.2417296388278\n",
      "episode  98 : loss =  (5338255.32587859, 503.26244077184845)  reward =  [-44.450417]  discounted_reward =  [-811.93974609375]  successes =  0  q =  -1529.586182420627\n",
      "episode  99 : loss =  (2488746.6110223625, 520.4518889568357)  reward =  [-112.39943]  discounted_reward =  [-2085.0189453125]  successes =  0  q =  -1581.5918382151058\n"
     ]
    }
   ],
   "source": [
    "num_episodes = 100\n",
    "Launcher = Launcher_t(Artificial_environment_base_and_noise, memory, GAMMA, BATCH_SIZE)\n",
    "history_loss, history_rewards, success = train(Launcher, optimizer, num_episodes)"
   ]
  },
  {
   "cell_type": "code",
   "execution_count": null,
   "metadata": {},
   "outputs": [],
   "source": []
  },
  {
   "cell_type": "code",
   "execution_count": null,
   "metadata": {},
   "outputs": [],
   "source": []
  },
  {
   "cell_type": "code",
   "execution_count": null,
   "metadata": {},
   "outputs": [],
   "source": []
  },
  {
   "cell_type": "code",
   "execution_count": null,
   "metadata": {},
   "outputs": [],
   "source": []
  }
 ],
 "metadata": {
  "kernelspec": {
   "display_name": "Python 3",
   "language": "python",
   "name": "python3"
  },
  "language_info": {
   "codemirror_mode": {
    "name": "ipython",
    "version": 3
   },
   "file_extension": ".py",
   "mimetype": "text/x-python",
   "name": "python",
   "nbconvert_exporter": "python",
   "pygments_lexer": "ipython3",
   "version": "3.7.1"
  }
 },
 "nbformat": 4,
 "nbformat_minor": 2
}
